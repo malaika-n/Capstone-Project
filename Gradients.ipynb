{
  "cells": [
    {
      "cell_type": "markdown",
      "metadata": {
        "id": "view-in-github",
        "colab_type": "text"
      },
      "source": [
        "<a href=\"https://colab.research.google.com/github/malaika-n/Capstone-Project/blob/main/Gradients.ipynb\" target=\"_parent\"><img src=\"https://colab.research.google.com/assets/colab-badge.svg\" alt=\"Open In Colab\"/></a>"
      ]
    },
    {
      "cell_type": "markdown",
      "source": [
        "### Imports"
      ],
      "metadata": {
        "datalore": {
          "node_id": "OyQn005DHW1tsm1Nh2sT4t",
          "type": "MD",
          "hide_input_from_viewers": false,
          "hide_output_from_viewers": false,
          "report_properties": {
            "rowId": "OlPP1gAHW5ZopQIn8v94Ch"
          }
        },
        "id": "0xKwt5WoEaKX"
      }
    },
    {
      "cell_type": "code",
      "source": [
        "import numpy as np\n",
        "from numpy import ndarray"
      ],
      "execution_count": null,
      "outputs": [],
      "metadata": {
        "datalore": {
          "node_id": "hfPFwCG3gnsXXZxXU6inj9",
          "type": "CODE",
          "hide_input_from_viewers": false,
          "hide_output_from_viewers": false,
          "report_properties": {
            "rowId": "i28rkikU27gdueMXqHFNUR"
          }
        },
        "id": "61mKoQk3EaKY"
      }
    },
    {
      "cell_type": "markdown",
      "source": [
        "# Helpers"
      ],
      "metadata": {
        "datalore": {
          "node_id": "2ReBbnzyKF8ystBHEI4Yb6",
          "type": "MD",
          "hide_input_from_viewers": false,
          "hide_output_from_viewers": false,
          "report_properties": {
            "rowId": "O8URkP449WEOTJ5T4TPprU"
          }
        },
        "id": "90H6nWW4EaKZ"
      }
    },
    {
      "cell_type": "code",
      "source": [
        "def assert_same_shape(output: ndarray,\n",
        "                      output_grad: ndarray):\n",
        "    assert output.shape == output_grad.shape, \\\n",
        "    '''\n",
        "    Two ndarray should have the same shape; instead, first ndarray's shape is {0}\n",
        "    and second ndarray's shape is {1}.\n",
        "    '''.format(tuple(output_grad.shape), tuple(output.shape))\n",
        "    return None"
      ],
      "execution_count": null,
      "outputs": [],
      "metadata": {
        "datalore": {
          "node_id": "avTFhs4SnKCFKSc0EBO4ON",
          "type": "CODE",
          "hide_input_from_viewers": false,
          "hide_output_from_viewers": false,
          "report_properties": {
            "rowId": "DGkqd5tvwiLC1exIbqaAmz"
          }
        },
        "id": "8eb2zkEjEaKZ"
      }
    },
    {
      "cell_type": "code",
      "source": [
        "def assert_dim(t: ndarray,\n",
        "               dim: ndarray):\n",
        "    assert len(t.shape) == dim, \\\n",
        "    '''\n",
        "    Tensor expected to have dimension {0}, instead has dimension {1}\n",
        "    '''.format(dim, len(t.shape))\n",
        "    return None"
      ],
      "execution_count": null,
      "outputs": [],
      "metadata": {
        "datalore": {
          "node_id": "5bMWvGHx1tCNLmwJUz0MLI",
          "type": "CODE",
          "hide_input_from_viewers": false,
          "hide_output_from_viewers": false,
          "report_properties": {
            "rowId": "aY5YU4jD83Pkry63QRlWWz"
          }
        },
        "id": "Ig-KfQMEEaKZ"
      }
    },
    {
      "cell_type": "markdown",
      "source": [
        "# 1D Convolution"
      ],
      "metadata": {
        "datalore": {
          "node_id": "S3uKQkzJTczasULgH3Wwz7",
          "type": "MD",
          "hide_input_from_viewers": false,
          "hide_output_from_viewers": false,
          "report_properties": {
            "rowId": "tMda6VUTrhn8SumKDU8WIE"
          }
        },
        "id": "s_72HMvJEaKZ"
      }
    },
    {
      "cell_type": "markdown",
      "source": [
        "1 input, 1 output"
      ],
      "metadata": {
        "datalore": {
          "node_id": "XqxMkEc5ToDlrF4hsCj2r4",
          "type": "MD",
          "hide_input_from_viewers": false,
          "hide_output_from_viewers": false,
          "report_properties": {
            "rowId": "11J3QYsvQdJdLWbOBeqkYM"
          }
        },
        "id": "iheARmZ9EaKZ"
      }
    },
    {
      "cell_type": "markdown",
      "source": [
        "## Padding"
      ],
      "metadata": {
        "datalore": {
          "node_id": "YYBpiWTkK8Z0ITTextgfcK",
          "type": "MD",
          "hide_input_from_viewers": false,
          "hide_output_from_viewers": false,
          "report_properties": {
            "rowId": "HOxSdXzlRApV9NFiUPFwWH"
          }
        },
        "id": "hlcmbN0nEaKZ"
      }
    },
    {
      "cell_type": "code",
      "source": [
        "input_1d = np.array([1,2,3,4,5])\n",
        "param_1d = np.array([1,1,1])"
      ],
      "execution_count": null,
      "outputs": [],
      "metadata": {
        "datalore": {
          "node_id": "q9iIvHiltEQB5cg7ps29ed",
          "type": "CODE",
          "hide_input_from_viewers": false,
          "hide_output_from_viewers": false,
          "report_properties": {
            "rowId": "uKxeAp7IE5TQyvFtOd8tCw"
          }
        },
        "id": "_2qqP7aQEaKa"
      }
    },
    {
      "cell_type": "code",
      "source": [
        "def _pad_1d(inp: ndarray,\n",
        "            num: int) -> ndarray:\n",
        "    z = np.array([0])\n",
        "    z = np.repeat(z, num)\n",
        "    return np.concatenate([z, inp, z])"
      ],
      "execution_count": null,
      "outputs": [],
      "metadata": {
        "datalore": {
          "node_id": "0fOrnwcSjHSiIn0WEvO2J9",
          "type": "CODE",
          "hide_input_from_viewers": false,
          "hide_output_from_viewers": false,
          "report_properties": {
            "rowId": "CqB5jmXB8EXBnPbqorpUR9"
          }
        },
        "id": "T2xu8E0sEaKa"
      }
    },
    {
      "cell_type": "code",
      "source": [
        "_pad_1d(input_1d, 1)"
      ],
      "execution_count": null,
      "outputs": [
        {
          "data": {
            "text/plain": [
              "array([0, 1, 2, 3, 4, 5, 0])"
            ]
          },
          "metadata": {},
          "output_type": "display_data"
        }
      ],
      "metadata": {
        "datalore": {
          "node_id": "UJUYge8z37lxnuoRLJrng6",
          "type": "CODE",
          "hide_input_from_viewers": false,
          "hide_output_from_viewers": false,
          "report_properties": {
            "rowId": "D7D4h8nWrs3GPmBJa1UxOx"
          }
        },
        "id": "8E2KwhytEaKa",
        "outputId": "0cb90680-7b5b-4538-bf0b-7369078a3808"
      }
    },
    {
      "cell_type": "markdown",
      "source": [
        "### Forward"
      ],
      "metadata": {
        "datalore": {
          "node_id": "LQovqBz1nRrjwb6lP55cih",
          "type": "MD",
          "hide_input_from_viewers": false,
          "hide_output_from_viewers": false,
          "report_properties": {
            "rowId": "h8RgvQLGHFt8nZnLyvtlqF"
          }
        },
        "id": "LegHCRhUEaKa"
      }
    },
    {
      "cell_type": "code",
      "source": [
        "def conv_1d(inp: ndarray,\n",
        "            param: ndarray) -> ndarray:\n",
        "\n",
        "    # assert correct dimensions\n",
        "    assert_dim(inp, 1)\n",
        "    assert_dim(param, 1)\n",
        "\n",
        "    # pad the input\n",
        "    param_len = param.shape[0]\n",
        "    param_mid = param_len // 2\n",
        "    inp_pad = _pad_1d(inp, param_mid)\n",
        "\n",
        "    # initialize the output\n",
        "    out = np.zeros(inp.shape)\n",
        "\n",
        "    # perform the 1d convolution\n",
        "    for o in range(out.shape[0]):\n",
        "        for p in range(param_len):\n",
        "            out[o] += param[p] * inp_pad[o+p]\n",
        "\n",
        "    # ensure shapes didn't change\n",
        "    assert_same_shape(inp, out)\n",
        "\n",
        "    return out"
      ],
      "execution_count": null,
      "outputs": [],
      "metadata": {
        "datalore": {
          "node_id": "Of2iTYyE0bBCiLKRJmBdGF",
          "type": "CODE",
          "hide_input_from_viewers": false,
          "hide_output_from_viewers": false,
          "report_properties": {
            "rowId": "vA3fKr9xisHfcUvy2GXTvm"
          }
        },
        "id": "hWecHC5gEaKa"
      }
    },
    {
      "cell_type": "code",
      "source": [
        "def conv_1d_sum(inp: ndarray,\n",
        "                param: ndarray) -> ndarray:\n",
        "    out = conv_1d(inp, param)\n",
        "    return np.sum(out)"
      ],
      "execution_count": null,
      "outputs": [],
      "metadata": {
        "datalore": {
          "node_id": "r8jeO3SGUrGWNYv3bSMGRs",
          "type": "CODE",
          "hide_input_from_viewers": false,
          "hide_output_from_viewers": false,
          "report_properties": {
            "rowId": "CSnKyMdWjqKFmHNFgE9WAT"
          }
        },
        "id": "eYU6WCNhEaKb"
      }
    },
    {
      "cell_type": "code",
      "source": [
        "conv_1d_sum(input_1d, param_1d)"
      ],
      "execution_count": null,
      "outputs": [
        {
          "data": {
            "text/plain": [
              "39.0"
            ]
          },
          "metadata": {},
          "output_type": "display_data"
        }
      ],
      "metadata": {
        "datalore": {
          "node_id": "AK0S4ZWQbF0NgSTKkZHEKv",
          "type": "CODE",
          "hide_input_from_viewers": false,
          "hide_output_from_viewers": false,
          "report_properties": {
            "rowId": "hMm5qDMFjSlp7oRiPIfEMm"
          }
        },
        "id": "MkFnxmemEaKb",
        "outputId": "94a04303-9f49-47a4-b03c-17aff2dee396"
      }
    },
    {
      "cell_type": "markdown",
      "source": [
        "## Testing gradients"
      ],
      "metadata": {
        "datalore": {
          "node_id": "nGFqv7qoqYg8NyGG39DHrz",
          "type": "MD",
          "hide_input_from_viewers": false,
          "hide_output_from_viewers": false,
          "report_properties": {
            "rowId": "7FeyAt8oW10B8MhefzJkEJ"
          }
        },
        "id": "TiIHLylkEaKb"
      }
    },
    {
      "cell_type": "code",
      "source": [
        "np.random.seed(190220)\n",
        "print(np.random.randint(0, input_1d.shape[0]))\n",
        "print(np.random.randint(0, param_1d.shape[0]))"
      ],
      "execution_count": null,
      "outputs": [
        {
          "name": "stdout",
          "text": [
            "4\n",
            "0\n"
          ],
          "output_type": "stream"
        }
      ],
      "metadata": {
        "datalore": {
          "node_id": "NVrRxjIdjiTJYGfjv7xgHr",
          "type": "CODE",
          "hide_input_from_viewers": false,
          "hide_output_from_viewers": false,
          "report_properties": {
            "rowId": "zLZiH4tTcoVkdvBFT6vxUO"
          }
        },
        "id": "ZZsGxNqdEaKb",
        "outputId": "219db20c-e54e-4476-d03f-b7c3a3103b2b"
      }
    },
    {
      "cell_type": "code",
      "source": [
        "input_1d_2 = np.array([1,2,3,4,6])\n",
        "param_1d = np.array([1,1,1])"
      ],
      "execution_count": null,
      "outputs": [],
      "metadata": {
        "datalore": {
          "node_id": "uc3Yg1uqAEW7YKUnVtZsdm",
          "type": "CODE",
          "hide_input_from_viewers": false,
          "hide_output_from_viewers": false,
          "report_properties": {
            "rowId": "WhuWPinnNXnhsQDrzMfu5u"
          }
        },
        "id": "gCyZ79bIEaKb"
      }
    },
    {
      "cell_type": "code",
      "source": [
        "print(conv_1d_sum(input_1d_2, param_1d) - conv_1d_sum(input_1d_2, param_1d))"
      ],
      "execution_count": null,
      "outputs": [
        {
          "name": "stdout",
          "text": [
            "0.0\n"
          ],
          "output_type": "stream"
        }
      ],
      "metadata": {
        "datalore": {
          "node_id": "PryaSCcex96YrPQ43KGFml",
          "type": "CODE",
          "hide_input_from_viewers": false,
          "hide_output_from_viewers": false,
          "report_properties": {
            "rowId": "hHJxZK9mV4FMwX6GUFpqAE"
          }
        },
        "id": "FtfO8-KoEaKb",
        "outputId": "74a001f4-ba0e-4507-cddf-48cff7b511e2"
      }
    },
    {
      "cell_type": "code",
      "source": [
        "input_1d = np.array([1,2,3,4,5])\n",
        "param_1d_2 = np.array([2,1,1])\n",
        "\n",
        "print(conv_1d_sum(input_1d, param_1d_2) - conv_1d_sum(input_1d, param_1d))"
      ],
      "execution_count": null,
      "outputs": [
        {
          "name": "stdout",
          "text": [
            "10.0\n"
          ],
          "output_type": "stream"
        }
      ],
      "metadata": {
        "datalore": {
          "node_id": "xiO6ZzQIxzA919Gc1e5Yk1",
          "type": "CODE",
          "hide_input_from_viewers": false,
          "hide_output_from_viewers": false,
          "report_properties": {
            "rowId": "pzlspgj5IPkb5exynQU73i"
          }
        },
        "id": "2Nfd8UY-EaKb",
        "outputId": "231081a1-83ce-42d8-ca72-76697a43b33a"
      }
    },
    {
      "cell_type": "markdown",
      "source": [
        "## Gradients"
      ],
      "metadata": {
        "datalore": {
          "node_id": "udcdIOou6lTnTZEawpSnpc",
          "type": "MD",
          "hide_input_from_viewers": false,
          "hide_output_from_viewers": false,
          "report_properties": {
            "rowId": "Ucgf2IzxObm6Yqr9attz4J"
          }
        },
        "id": "46sBnpojEaKb"
      }
    },
    {
      "cell_type": "code",
      "source": [
        "def _param_grad_1d(inp: ndarray,\n",
        "                   param: ndarray,\n",
        "                   output_grad: ndarray = None) -> ndarray:\n",
        "\n",
        "    param_len = param.shape[0]\n",
        "    param_mid = param_len // 2\n",
        "    input_pad = _pad_1d(inp, param_mid)\n",
        "\n",
        "    if output_grad is None:\n",
        "        output_grad = np.ones_like(inp)\n",
        "    else:\n",
        "        assert_same_shape(inp, output_grad)\n",
        "\n",
        "    # Zero padded 1 dimensional convolution\n",
        "    param_grad = np.zeros_like(param)\n",
        "    input_grad = np.zeros_like(inp)\n",
        "\n",
        "    for o in range(inp.shape[0]):\n",
        "        for p in range(param.shape[0]):\n",
        "            param_grad[p] += input_pad[o+p] * output_grad[o]\n",
        "\n",
        "    assert_same_shape(param_grad, param)\n",
        "\n",
        "    return param_grad"
      ],
      "execution_count": null,
      "outputs": [],
      "metadata": {
        "datalore": {
          "node_id": "y8OqipRjLhhjueEGFHUQzL",
          "type": "CODE",
          "hide_input_from_viewers": false,
          "hide_output_from_viewers": false,
          "report_properties": {
            "rowId": "BKrqAXPO5ZSgNJeKhQExDa"
          }
        },
        "id": "IJ5WL0dbEaKb"
      }
    },
    {
      "cell_type": "code",
      "source": [
        "def _input_grad_1d(inp: ndarray,\n",
        "                   param: ndarray,\n",
        "                   output_grad: ndarray = None) -> ndarray:\n",
        "\n",
        "    param_len = param.shape[0]\n",
        "    param_mid = param_len // 2\n",
        "    inp_pad = _pad_1d(inp, param_mid)\n",
        "\n",
        "    if output_grad is None:\n",
        "        output_grad = np.ones_like(inp)\n",
        "    else:\n",
        "        assert_same_shape(inp, output_grad)\n",
        "\n",
        "    output_pad = _pad_1d(output_grad, param_mid)\n",
        "\n",
        "    # Zero padded 1 dimensional convolution\n",
        "    param_grad = np.zeros_like(param)\n",
        "    input_grad = np.zeros_like(inp)\n",
        "\n",
        "    for o in range(inp.shape[0]):\n",
        "        for f in range(param.shape[0]):\n",
        "            input_grad[o] += output_pad[o+param_len-f-1] * param[f]\n",
        "\n",
        "    assert_same_shape(param_grad, param)\n",
        "\n",
        "    return input_grad"
      ],
      "execution_count": null,
      "outputs": [],
      "metadata": {
        "datalore": {
          "node_id": "G1U984Kx1ncp5MXnw6tON6",
          "type": "CODE",
          "hide_input_from_viewers": false,
          "hide_output_from_viewers": false,
          "report_properties": {
            "rowId": "lONXAqPkfvMcCBtgg5cdVV"
          }
        },
        "id": "Nu_qhVbIEaKc"
      }
    },
    {
      "cell_type": "code",
      "source": [
        "_input_grad_1d(input_1d, param_1d)"
      ],
      "execution_count": null,
      "outputs": [
        {
          "data": {
            "text/plain": [
              "array([2, 3, 3, 3, 2])"
            ]
          },
          "metadata": {},
          "output_type": "display_data"
        }
      ],
      "metadata": {
        "datalore": {
          "node_id": "n9eXUWQKPaVuboa3wqIK9X",
          "type": "CODE",
          "hide_input_from_viewers": false,
          "hide_output_from_viewers": false,
          "report_properties": {
            "rowId": "k3j0rNnTxBF6KXMdlOytX6"
          }
        },
        "id": "E_AdackeEaKc",
        "outputId": "8ff6a850-5fdd-4b3c-cbac-c83a481837c8"
      }
    },
    {
      "cell_type": "code",
      "source": [
        "_param_grad_1d(input_1d, param_1d)"
      ],
      "execution_count": null,
      "outputs": [
        {
          "data": {
            "text/plain": [
              "array([10, 15, 14])"
            ]
          },
          "metadata": {},
          "output_type": "display_data"
        }
      ],
      "metadata": {
        "datalore": {
          "node_id": "J22aVmdZ0blnxy5DOCtJPX",
          "type": "CODE",
          "hide_input_from_viewers": false,
          "hide_output_from_viewers": false,
          "report_properties": {
            "rowId": "S0m2zo2a03K0r2ocEbfSkV"
          }
        },
        "id": "oSYWRyo-EaKc",
        "outputId": "859aa89b-699c-4e2e-9b2c-de97d1444999"
      }
    },
    {
      "cell_type": "markdown",
      "source": [
        "Works!"
      ],
      "metadata": {
        "datalore": {
          "node_id": "kwagFLLHU7NOo3HWrfhrR3",
          "type": "MD",
          "hide_input_from_viewers": false,
          "hide_output_from_viewers": false,
          "report_properties": {
            "rowId": "m5wRlR8vGabfsv8TCPvAEL"
          }
        },
        "id": "VEGQWUBoEaKc"
      }
    },
    {
      "cell_type": "markdown",
      "source": [
        "## Batch size of 2"
      ],
      "metadata": {
        "datalore": {
          "node_id": "wd8BnZB9OOLljKFt1sNamw",
          "type": "MD",
          "hide_input_from_viewers": false,
          "hide_output_from_viewers": false,
          "report_properties": {
            "rowId": "p6IMxuAlj8KtNnt7ATsXFk"
          }
        },
        "id": "kgPkyJN4EaKc"
      }
    },
    {
      "cell_type": "markdown",
      "source": [
        "### Pad"
      ],
      "metadata": {
        "datalore": {
          "node_id": "sqqTH7YzzXhTOfst9f51WT",
          "type": "MD",
          "hide_input_from_viewers": false,
          "hide_output_from_viewers": false,
          "report_properties": {
            "rowId": "GdBN03qus34dXtJG0ixte8"
          }
        },
        "id": "1czUZKMrEaKc"
      }
    },
    {
      "cell_type": "code",
      "source": [
        "input_1d_batch = np.array([[0,1,2,3,4,5,6],\n",
        "                           [1,2,3,4,5,6,7]])"
      ],
      "execution_count": null,
      "outputs": [],
      "metadata": {
        "datalore": {
          "node_id": "rMtZx1ML84hlRNauugWBaD",
          "type": "CODE",
          "hide_input_from_viewers": false,
          "hide_output_from_viewers": false,
          "report_properties": {
            "rowId": "pbneo9q4IkGiCJ8HeoV6ol"
          }
        },
        "id": "yyWEHqDgEaKc"
      }
    },
    {
      "cell_type": "code",
      "source": [
        "def _pad_1d(inp: ndarray,\n",
        "            num: int) -> ndarray:\n",
        "    z = np.array([0])\n",
        "    z = np.repeat(z, num)\n",
        "    return np.concatenate([z, inp, z])"
      ],
      "execution_count": null,
      "outputs": [],
      "metadata": {
        "datalore": {
          "node_id": "7IC5RdfCXGys2aW9u5FNH6",
          "type": "CODE",
          "hide_input_from_viewers": false,
          "hide_output_from_viewers": false,
          "report_properties": {
            "rowId": "JYmGgGQNKVN7PkSVKi1ryB"
          }
        },
        "id": "taKr5CihEaKc"
      }
    },
    {
      "cell_type": "code",
      "source": [
        "def _pad_1d_batch(inp: ndarray,\n",
        "                  num: int) -> ndarray:\n",
        "    outs = [_pad_1d(obs, num) for obs in inp]\n",
        "    return np.stack(outs)"
      ],
      "execution_count": null,
      "outputs": [],
      "metadata": {
        "datalore": {
          "node_id": "4T5PmzOrRKgxjsCY9u02BM",
          "type": "CODE",
          "hide_input_from_viewers": false,
          "hide_output_from_viewers": false,
          "report_properties": {
            "rowId": "reTHXDMOUOfmh3VbHGYaTj"
          }
        },
        "id": "btzj1BAWEaKc"
      }
    },
    {
      "cell_type": "code",
      "source": [
        "_pad_1d_batch(input_1d_batch, 1)"
      ],
      "execution_count": null,
      "outputs": [
        {
          "data": {
            "text/plain": [
              "array([[0, 0, 1, 2, 3, 4, 5, 6, 0],\n",
              "       [0, 1, 2, 3, 4, 5, 6, 7, 0]])"
            ]
          },
          "metadata": {},
          "output_type": "display_data"
        }
      ],
      "metadata": {
        "datalore": {
          "node_id": "s9BVdxGAxjyUfbMv6jPLm5",
          "type": "CODE",
          "hide_input_from_viewers": false,
          "hide_output_from_viewers": false,
          "report_properties": {
            "rowId": "mnO1DzJ3fQBzmWB8adYslZ"
          }
        },
        "id": "6inB1QxcEaKc",
        "outputId": "bdfa0ca1-4f5b-4e28-daf5-dc87dde55af1"
      }
    },
    {
      "cell_type": "markdown",
      "source": [
        "### Forward"
      ],
      "metadata": {
        "datalore": {
          "node_id": "olF9LnJ4PdTLFVRn7zkVu7",
          "type": "MD",
          "hide_input_from_viewers": false,
          "hide_output_from_viewers": false,
          "report_properties": {
            "rowId": "g5idEZyHjjuy9q7s3MKzko"
          }
        },
        "id": "XKTFDh_qEaKc"
      }
    },
    {
      "cell_type": "code",
      "source": [
        "def conv_1d_batch(inp: ndarray,\n",
        "                  param: ndarray) -> ndarray:\n",
        "\n",
        "    outs = [conv_1d(obs, param) for obs in inp]\n",
        "    return np.stack(outs)"
      ],
      "execution_count": null,
      "outputs": [],
      "metadata": {
        "datalore": {
          "node_id": "egoGfyNw8EumOrbSyH1T2W",
          "type": "CODE",
          "hide_input_from_viewers": false,
          "hide_output_from_viewers": false,
          "report_properties": {
            "rowId": "WAUe5k5idThRiGw12NdwmY"
          }
        },
        "id": "tlR7_XXgEaKc"
      }
    },
    {
      "cell_type": "code",
      "source": [
        "conv_1d_batch(input_1d_batch, param_1d)"
      ],
      "execution_count": null,
      "outputs": [
        {
          "data": {
            "text/plain": [
              "array([[ 1.,  3.,  6.,  9., 12., 15., 11.],\n",
              "       [ 3.,  6.,  9., 12., 15., 18., 13.]])"
            ]
          },
          "metadata": {},
          "output_type": "display_data"
        }
      ],
      "metadata": {
        "datalore": {
          "node_id": "ye1mctCEJB1OeovOkT38jo",
          "type": "CODE",
          "hide_input_from_viewers": false,
          "hide_output_from_viewers": false,
          "report_properties": {
            "rowId": "eDAOZBHSGnDef5hbyAdnKm"
          }
        },
        "id": "tNoygEShEaKc",
        "outputId": "92a1d05d-3a2e-4cac-ec56-17487ddf464b"
      }
    },
    {
      "cell_type": "markdown",
      "source": [
        "### Gradient"
      ],
      "metadata": {
        "datalore": {
          "node_id": "2In0qyZJfwIINPUQJmSqEX",
          "type": "MD",
          "hide_input_from_viewers": false,
          "hide_output_from_viewers": false,
          "report_properties": {
            "rowId": "2apaLvNn0equpH6pn4k3Fy"
          }
        },
        "id": "x2jPNGGGEaKd"
      }
    },
    {
      "cell_type": "code",
      "source": [
        "def input_grad_1d_batch(inp: ndarray,\n",
        "                        param: ndarray) -> ndarray:\n",
        "\n",
        "    out = conv_1d_batch(inp, param)\n",
        "\n",
        "    out_grad = np.ones_like(out)\n",
        "\n",
        "    batch_size = out_grad.shape[0]\n",
        "\n",
        "    grads = [_input_grad_1d(inp[i], param, out_grad[i]) for i in range(batch_size)]\n",
        "\n",
        "    return np.stack(grads)"
      ],
      "execution_count": null,
      "outputs": [],
      "metadata": {
        "datalore": {
          "node_id": "aDsSse2HeWKjfCWgyZ6xD6",
          "type": "CODE",
          "hide_input_from_viewers": false,
          "hide_output_from_viewers": false,
          "report_properties": {
            "rowId": "gSjh6UbL154RouU3CR3LJO"
          }
        },
        "id": "xWyMW1BYEaKd"
      }
    },
    {
      "cell_type": "code",
      "source": [
        "def param_grad_1d_batch(inp: ndarray,\n",
        "                        param: ndarray) -> ndarray:\n",
        "\n",
        "    output_grad = np.ones_like(inp)\n",
        "\n",
        "    inp_pad = _pad_1d_batch(inp, 1)\n",
        "    out_pad = _pad_1d_batch(inp, 1)\n",
        "\n",
        "    param_grad = np.zeros_like(param)\n",
        "\n",
        "    for i in range(inp.shape[0]):\n",
        "        for o in range(inp.shape[1]):\n",
        "            for p in range(param.shape[0]):\n",
        "                param_grad[p] += inp_pad[i][o+p] * output_grad[i][o]\n",
        "\n",
        "    return param_grad"
      ],
      "execution_count": null,
      "outputs": [],
      "metadata": {
        "datalore": {
          "node_id": "9JuZg922qAeD1wVPRVUEwA",
          "type": "CODE",
          "hide_input_from_viewers": false,
          "hide_output_from_viewers": false,
          "report_properties": {
            "rowId": "797GXPo1LhR8EdA1ayQ55C"
          }
        },
        "id": "DYt9CgdxEaKd"
      }
    },
    {
      "cell_type": "markdown",
      "source": [
        "## Checking gradients for `conv_1d_batch`"
      ],
      "metadata": {
        "datalore": {
          "node_id": "xzRMzmd0qAC7uNgwbj3ooT",
          "type": "MD",
          "hide_input_from_viewers": false,
          "hide_output_from_viewers": false,
          "report_properties": {
            "rowId": "hQ7uUJvZ5KgHlS9vEu6V3T"
          }
        },
        "id": "OBHmrsC8EaKd"
      }
    },
    {
      "cell_type": "code",
      "source": [
        "def conv_1d_batch_sum(inp: ndarray,\n",
        "                      fil: ndarray) -> ndarray:\n",
        "    out = conv_1d_batch(inp, fil)\n",
        "    return np.sum(out)"
      ],
      "execution_count": null,
      "outputs": [],
      "metadata": {
        "datalore": {
          "node_id": "HARCJ8W65U9SBD1e4wKsVW",
          "type": "CODE",
          "hide_input_from_viewers": false,
          "hide_output_from_viewers": false,
          "report_properties": {
            "rowId": "DBtvvOx5LHQGu3siMn3riF"
          }
        },
        "id": "Bzq38_V5EaKd"
      }
    },
    {
      "cell_type": "code",
      "source": [
        "conv_1d_batch_sum(input_1d_batch, param_1d)"
      ],
      "execution_count": null,
      "outputs": [
        {
          "data": {
            "text/plain": [
              "133.0"
            ]
          },
          "metadata": {},
          "output_type": "display_data"
        }
      ],
      "metadata": {
        "datalore": {
          "node_id": "eDcy9YVh3Pf7CQ90ZSCK42",
          "type": "CODE",
          "hide_input_from_viewers": false,
          "hide_output_from_viewers": false,
          "report_properties": {
            "rowId": "IQWhc4MGFwDBWQOQ1RVuu4"
          }
        },
        "id": "wkfDFjOiEaKd",
        "outputId": "0f11c782-db47-4c15-eec0-f876fb8b86a0"
      }
    },
    {
      "cell_type": "code",
      "source": [
        "print(np.random.randint(0, input_1d_batch.shape[0]))\n",
        "print(np.random.randint(0, input_1d_batch.shape[1]))"
      ],
      "execution_count": null,
      "outputs": [
        {
          "name": "stdout",
          "text": [
            "0\n",
            "2\n"
          ],
          "output_type": "stream"
        }
      ],
      "metadata": {
        "datalore": {
          "node_id": "Ug2KdxhvYQnWznIdLWCcfj",
          "type": "CODE",
          "hide_input_from_viewers": false,
          "hide_output_from_viewers": false,
          "report_properties": {
            "rowId": "nBm7BzHeEVaryrQnA5Je2h"
          }
        },
        "id": "cXm4pbOyEaKd",
        "outputId": "311f9821-2d3a-4b92-e595-c96fe572ee2b"
      }
    },
    {
      "cell_type": "code",
      "source": [
        "input_1d_batch_2 = input_1d_batch.copy()\n",
        "input_1d_batch_2[0][2] += 1\n",
        "conv_1d_batch_sum(input_1d_batch_2, param_1d) - conv_1d_batch_sum(input_1d_batch, param_1d)"
      ],
      "execution_count": null,
      "outputs": [
        {
          "data": {
            "text/plain": [
              "3.0"
            ]
          },
          "metadata": {},
          "output_type": "display_data"
        }
      ],
      "metadata": {
        "datalore": {
          "node_id": "epCvME4cXgQuOQo17QUDSY",
          "type": "CODE",
          "hide_input_from_viewers": false,
          "hide_output_from_viewers": false,
          "report_properties": {
            "rowId": "x1Hcnz1OO5W0mQEVkHrfbo"
          }
        },
        "id": "endwUDTbEaKe",
        "outputId": "de473385-51d3-4880-93a4-3a6010991bdd"
      }
    },
    {
      "cell_type": "code",
      "source": [
        "input_grad_1d_batch(input_1d_batch, param_1d)"
      ],
      "execution_count": null,
      "outputs": [
        {
          "data": {
            "text/plain": [
              "array([[2, 3, 3, 3, 3, 3, 2],\n",
              "       [2, 3, 3, 3, 3, 3, 2]])"
            ]
          },
          "metadata": {},
          "output_type": "display_data"
        }
      ],
      "metadata": {
        "datalore": {
          "node_id": "peJiOqQeOK4EEKNGS3cu4O",
          "type": "CODE",
          "hide_input_from_viewers": false,
          "hide_output_from_viewers": false,
          "report_properties": {
            "rowId": "Re7p7oR6uXNssp7HjWjFgD"
          }
        },
        "id": "28JuUz3ZEaKe",
        "outputId": "17244600-5c64-4b2b-c1f9-bc1116082748"
      }
    },
    {
      "cell_type": "code",
      "source": [
        "print(np.random.randint(0, param_1d.shape[0]))"
      ],
      "execution_count": null,
      "outputs": [
        {
          "name": "stdout",
          "text": [
            "2\n"
          ],
          "output_type": "stream"
        }
      ],
      "metadata": {
        "datalore": {
          "node_id": "yjlG6IXVN4sfOkkq0sS7B4",
          "type": "CODE",
          "hide_input_from_viewers": false,
          "hide_output_from_viewers": false,
          "report_properties": {
            "rowId": "Et29QQMjyVyujrZ4gLqOHY"
          }
        },
        "id": "toj2jKn3EaKe",
        "outputId": "2f8df247-f31b-4ac9-dc1b-02d2e80bf4f7"
      }
    },
    {
      "cell_type": "code",
      "source": [
        "param_1d_2 = param_1d.copy()\n",
        "param_1d_2[2] += 1\n",
        "conv_1d_batch_sum(input_1d_batch, param_1d_2) - conv_1d_batch_sum(input_1d_batch, param_1d)"
      ],
      "execution_count": null,
      "outputs": [
        {
          "data": {
            "text/plain": [
              "48.0"
            ]
          },
          "metadata": {},
          "output_type": "display_data"
        }
      ],
      "metadata": {
        "datalore": {
          "node_id": "Gh0UPHfde9DmJ2Y1T5Pekq",
          "type": "CODE",
          "hide_input_from_viewers": false,
          "hide_output_from_viewers": false,
          "report_properties": {
            "rowId": "KhhQ9NifZjGwD7EgLRJh3O"
          }
        },
        "id": "FedUdSJsEaKe",
        "outputId": "26a34260-53c5-4043-ac76-c43f0b95126b"
      }
    },
    {
      "cell_type": "code",
      "source": [
        "param_grad_1d_batch(input_1d_batch, param_1d)"
      ],
      "execution_count": null,
      "outputs": [
        {
          "data": {
            "text/plain": [
              "array([36, 49, 48])"
            ]
          },
          "metadata": {},
          "output_type": "display_data"
        }
      ],
      "metadata": {
        "datalore": {
          "node_id": "uHv2pPj1iCSOBpi9MbOud6",
          "type": "CODE",
          "hide_input_from_viewers": false,
          "hide_output_from_viewers": false,
          "report_properties": {
            "rowId": "c6IhbMQw4383hrvR7Vzc0O"
          }
        },
        "id": "9SdgSfreEaKe",
        "outputId": "a9e10894-7ed6-4661-d556-7d58544f1e98"
      }
    },
    {
      "cell_type": "markdown",
      "source": [
        "# 2D Convolutions"
      ],
      "metadata": {
        "datalore": {
          "node_id": "HFrOid4slkJ7GyXk9070DN",
          "type": "MD",
          "hide_input_from_viewers": false,
          "hide_output_from_viewers": false,
          "report_properties": {
            "rowId": "QWMnK8ClrGjSkpLrwBNWmh"
          }
        },
        "id": "aib5lOPsEaKe"
      }
    },
    {
      "cell_type": "code",
      "source": [
        "imgs_2d_batch = np.random.randn(3, 28, 28)"
      ],
      "execution_count": null,
      "outputs": [],
      "metadata": {
        "datalore": {
          "node_id": "1kHPFNgrkC3ov6o3SceeTE",
          "type": "CODE",
          "hide_input_from_viewers": false,
          "hide_output_from_viewers": false,
          "report_properties": {
            "rowId": "cSXbTL42VebzFcD8ybqxu2"
          }
        },
        "id": "b8fztOz5EaKe"
      }
    },
    {
      "cell_type": "code",
      "source": [
        "param_2d = np.random.randn(3, 3)"
      ],
      "execution_count": null,
      "outputs": [],
      "metadata": {
        "datalore": {
          "node_id": "nox65oM79J6bbpQhYtyGRX",
          "type": "CODE",
          "hide_input_from_viewers": false,
          "hide_output_from_viewers": false,
          "report_properties": {
            "rowId": "jOvHV4zAeaDyIjbodYNJQS"
          }
        },
        "id": "KVCBqmgFEaKe"
      }
    },
    {
      "cell_type": "markdown",
      "source": [
        "## Padding"
      ],
      "metadata": {
        "datalore": {
          "node_id": "L8EqL7w5Us4lmRfUY1UqVW",
          "type": "MD",
          "hide_input_from_viewers": false,
          "hide_output_from_viewers": false,
          "report_properties": {
            "rowId": "DolWrf9yrVCvnWDE0tiawZ"
          }
        },
        "id": "811uWs7AEaKe"
      }
    },
    {
      "cell_type": "code",
      "source": [
        "def _pad_2d(inp: ndarray,\n",
        "            num: int):\n",
        "    '''\n",
        "    Input is a 3 dimensional tensor, first dimension batch size\n",
        "    '''\n",
        "    outs = [_pad_2d_obs(obs, num) for obs in inp]\n",
        "\n",
        "    return np.stack(outs)"
      ],
      "execution_count": null,
      "outputs": [],
      "metadata": {
        "datalore": {
          "node_id": "bq8rkDSDSVH6fRnIbLgVP7",
          "type": "CODE",
          "hide_input_from_viewers": false,
          "hide_output_from_viewers": false,
          "report_properties": {
            "rowId": "G7XYgYVddlH1ff77hraq4p"
          }
        },
        "id": "IUvC6Tg4EaKe"
      }
    },
    {
      "cell_type": "code",
      "source": [
        "def _pad_2d_obs(inp: ndarray,\n",
        "                num: int):\n",
        "    '''\n",
        "    Input is a 2 dimensional, square, 2D Tensor\n",
        "    '''\n",
        "    inp_pad = _pad_1d_batch(inp, num)\n",
        "\n",
        "    other = np.zeros((num, inp.shape[0] + num * 2))\n",
        "\n",
        "    return np.concatenate([other, inp_pad, other])"
      ],
      "execution_count": null,
      "outputs": [],
      "metadata": {
        "datalore": {
          "node_id": "eRlDlVPZH5WvKMZkZ0X7nG",
          "type": "CODE",
          "hide_input_from_viewers": false,
          "hide_output_from_viewers": false,
          "report_properties": {
            "rowId": "T5q8kGb8SDGWnHfUXOd0uA"
          }
        },
        "id": "6GLdwYZZEaKe"
      }
    },
    {
      "cell_type": "code",
      "source": [
        "_pad_2d(imgs_2d_batch, 1).shape"
      ],
      "execution_count": null,
      "outputs": [
        {
          "data": {
            "text/plain": [
              "(3, 30, 30)"
            ]
          },
          "metadata": {},
          "output_type": "display_data"
        }
      ],
      "metadata": {
        "datalore": {
          "node_id": "MB8xM5KcIKDG2Yj3I62x7Y",
          "type": "CODE",
          "hide_input_from_viewers": false,
          "hide_output_from_viewers": false,
          "report_properties": {
            "rowId": "jYdyswEne1dgJhHIYZAETg"
          }
        },
        "id": "67dHwe_BEaKe",
        "outputId": "57b428fc-e88e-4be9-bff0-510fe170ea75"
      }
    },
    {
      "cell_type": "markdown",
      "source": [
        "## Compute output"
      ],
      "metadata": {
        "datalore": {
          "node_id": "hZSwEzVaDI8uYuayBxeW0r",
          "type": "MD",
          "hide_input_from_viewers": false,
          "hide_output_from_viewers": false,
          "report_properties": {
            "rowId": "2zbIgRuaL7LILBisKYuYJl"
          }
        },
        "id": "3f-PtbUGEaKf"
      }
    },
    {
      "cell_type": "code",
      "source": [
        "def _compute_output_obs_2d(obs: ndarray,\n",
        "                           param: ndarray):\n",
        "    '''\n",
        "    Obs is a 2d square Tensor, so is param\n",
        "    '''\n",
        "    param_mid = param.shape[0] // 2\n",
        "\n",
        "    obs_pad = _pad_2d_obs(obs, param_mid)\n",
        "\n",
        "    out = np.zeros_like(obs)\n",
        "\n",
        "    for o_w in range(out.shape[0]):\n",
        "        for o_h in range(out.shape[1]):\n",
        "            for p_w in range(param.shape[0]):\n",
        "                for p_h in range(param.shape[1]):\n",
        "                    out[o_w][o_h] += param[p_w][p_h] * obs_pad[o_w+p_w][o_h+p_h]\n",
        "    return out"
      ],
      "execution_count": null,
      "outputs": [],
      "metadata": {
        "datalore": {
          "node_id": "E536xAcn11j6pwFFxYjHvY",
          "type": "CODE",
          "hide_input_from_viewers": false,
          "hide_output_from_viewers": false,
          "report_properties": {
            "rowId": "hK4jAs3DzwcUKVIuXEC0FX"
          }
        },
        "id": "y6EfEB2JEaKf"
      }
    },
    {
      "cell_type": "code",
      "source": [
        "def _compute_output_2d(img_batch: ndarray,\n",
        "                       param: ndarray):\n",
        "\n",
        "    assert_dim(img_batch, 3)\n",
        "\n",
        "    outs = [_compute_output_obs_2d(obs, param) for obs in img_batch]\n",
        "\n",
        "    return np.stack(outs)"
      ],
      "execution_count": null,
      "outputs": [],
      "metadata": {
        "datalore": {
          "node_id": "RAeVAVcb623NIwuTcxA7k5",
          "type": "CODE",
          "hide_input_from_viewers": false,
          "hide_output_from_viewers": false,
          "report_properties": {
            "rowId": "RVZgMTT5ISKbgKaqbwY02x"
          }
        },
        "id": "-dKM8bs4EaKf"
      }
    },
    {
      "cell_type": "code",
      "source": [
        "_compute_output_2d(imgs_2d_batch, param_2d).shape"
      ],
      "execution_count": null,
      "outputs": [
        {
          "data": {
            "text/plain": [
              "(3, 28, 28)"
            ]
          },
          "metadata": {},
          "output_type": "display_data"
        }
      ],
      "metadata": {
        "datalore": {
          "node_id": "jDeRBwm2xgu9AMKg6HVtke",
          "type": "CODE",
          "hide_input_from_viewers": false,
          "hide_output_from_viewers": false,
          "report_properties": {
            "rowId": "8wXzuinGq1iMnuFziptNBY"
          }
        },
        "id": "bjuMxTqpEaKf",
        "outputId": "07d50eae-eff1-4e7c-8c37-951ad6b9ef0b"
      }
    },
    {
      "cell_type": "markdown",
      "source": [
        "### Param grads"
      ],
      "metadata": {
        "datalore": {
          "node_id": "4babkkyRRvmAOB89epgaGH",
          "type": "MD",
          "hide_input_from_viewers": false,
          "hide_output_from_viewers": false,
          "report_properties": {
            "rowId": "qFdoSN7UjQJWb8980InipA"
          }
        },
        "id": "VAA1QuM8EaKf"
      }
    },
    {
      "cell_type": "code",
      "source": [
        "def _compute_grads_obs_2d(input_obs: ndarray,\n",
        "                          output_grad_obs: ndarray,\n",
        "                          param: ndarray) -> ndarray:\n",
        "    '''\n",
        "    input_obs: 2D Tensor representing the input observation\n",
        "    output_grad_obs: 2D Tensor representing the output gradient\n",
        "    param: 2D filter\n",
        "    '''\n",
        "\n",
        "    param_size = param.shape[0]\n",
        "    output_obs_pad = _pad_2d_obs(output_grad_obs, param_size // 2)\n",
        "    input_grad = np.zeros_like(input_obs)\n",
        "\n",
        "    for i_w in range(input_obs.shape[0]):\n",
        "        for i_h in range(input_obs.shape[1]):\n",
        "            for p_w in range(param_size):\n",
        "                for p_h in range(param_size):\n",
        "                    input_grad[i_w][i_h] += output_obs_pad[i_w+param_size-p_w-1][i_h+param_size-p_h-1] \\\n",
        "                    * param[p_w][p_h]\n",
        "\n",
        "    return input_grad\n",
        "\n",
        "def _compute_grads_2d(inp: ndarray,\n",
        "                      output_grad: ndarray,\n",
        "                      param: ndarray) -> ndarray:\n",
        "\n",
        "    grads = [_compute_grads_obs_2d(inp[i], output_grad[i], param) for i in range(output_grad.shape[0])]\n",
        "\n",
        "    return np.stack(grads)\n",
        "\n",
        "\n",
        "def _param_grad_2d(inp: ndarray,\n",
        "                   output_grad: ndarray,\n",
        "                   param: ndarray) -> ndarray:\n",
        "\n",
        "    param_size = param.shape[0]\n",
        "    inp_pad = _pad_2d(inp, param_size // 2)\n",
        "\n",
        "    param_grad = np.zeros_like(param)\n",
        "    img_shape = output_grad.shape[1:]\n",
        "\n",
        "    for i in range(inp.shape[0]):\n",
        "        for o_w in range(img_shape[0]):\n",
        "            for o_h in range(img_shape[1]):\n",
        "                for p_w in range(param_size):\n",
        "                    for p_h in range(param_size):\n",
        "                        param_grad[p_w][p_h] += inp_pad[i][o_w+p_w][o_h+p_h] \\\n",
        "                        * output_grad[i][o_w][o_h]\n",
        "    return param_grad"
      ],
      "execution_count": null,
      "outputs": [],
      "metadata": {
        "datalore": {
          "node_id": "CzL9zom5u1VPABFtNW7dYd",
          "type": "CODE",
          "hide_input_from_viewers": false,
          "hide_output_from_viewers": false,
          "report_properties": {
            "rowId": "snW4ZQviqX4mixmgRxzgBb"
          }
        },
        "id": "qrSm1dl_EaKf"
      }
    },
    {
      "cell_type": "code",
      "source": [
        "img_grads = _compute_grads_2d(imgs_2d_batch,\n",
        "                              np.ones_like(imgs_2d_batch),\n",
        "                              param_2d)"
      ],
      "execution_count": null,
      "outputs": [],
      "metadata": {
        "datalore": {
          "node_id": "eZc6hkx3hGIVpUnO8uwF9q",
          "type": "CODE",
          "hide_input_from_viewers": false,
          "hide_output_from_viewers": false,
          "report_properties": {
            "rowId": "hxLpUZrjZxVa9wudcj0BnS"
          }
        },
        "id": "axVGxBbcEaKf"
      }
    },
    {
      "cell_type": "code",
      "source": [
        "img_grads.shape"
      ],
      "execution_count": null,
      "outputs": [
        {
          "data": {
            "text/plain": [
              "(3, 28, 28)"
            ]
          },
          "metadata": {},
          "output_type": "display_data"
        }
      ],
      "metadata": {
        "datalore": {
          "node_id": "CRPyDtWh1qE9o6m1TI5Klq",
          "type": "CODE",
          "hide_input_from_viewers": false,
          "hide_output_from_viewers": false,
          "report_properties": {
            "rowId": "qEq65ztM7LK0t3tBjJsUK5"
          }
        },
        "id": "atxZGRjBEaKf",
        "outputId": "58ed2ee6-a983-47e3-ca79-d19e70c8417b"
      }
    },
    {
      "cell_type": "code",
      "source": [
        "param_grad = _param_grad_2d(imgs_2d_batch,\n",
        "                              np.ones_like(imgs_2d_batch),\n",
        "                              param_2d)\n",
        "param_grad.shape"
      ],
      "execution_count": null,
      "outputs": [
        {
          "data": {
            "text/plain": [
              "(3, 3)"
            ]
          },
          "metadata": {},
          "output_type": "display_data"
        }
      ],
      "metadata": {
        "datalore": {
          "node_id": "1XqmAGmKPCJMzqwp2Ec490",
          "type": "CODE",
          "hide_input_from_viewers": false,
          "hide_output_from_viewers": false,
          "report_properties": {
            "rowId": "fM87gFVXNbT9mfzxgkri9x"
          }
        },
        "id": "auJiS8f0EaKf",
        "outputId": "ab8637c4-edad-4fb1-cd3f-aec55085ae10"
      }
    },
    {
      "cell_type": "markdown",
      "source": [
        "## Testing gradients"
      ],
      "metadata": {
        "datalore": {
          "node_id": "ieO4FkY7Js5eOqnV6ILKG1",
          "type": "MD",
          "hide_input_from_viewers": false,
          "hide_output_from_viewers": false,
          "report_properties": {
            "rowId": "qSMcb33NDaZFXh02gwmyRw"
          }
        },
        "id": "qDxRlVPHEaKf"
      }
    },
    {
      "cell_type": "markdown",
      "source": [
        "### Input"
      ],
      "metadata": {
        "datalore": {
          "node_id": "4Vxp07woz9rsq3UlwL6424",
          "type": "MD",
          "hide_input_from_viewers": false,
          "hide_output_from_viewers": false,
          "report_properties": {
            "rowId": "KiW3E8KnSKrhIcm6LP4sYO"
          }
        },
        "id": "EO4Pp2C9EaKf"
      }
    },
    {
      "cell_type": "code",
      "source": [
        "print(np.random.randint(0, imgs_2d_batch.shape[0]))\n",
        "print(np.random.randint(0, imgs_2d_batch.shape[1]))\n",
        "print(np.random.randint(0, imgs_2d_batch.shape[2]))"
      ],
      "execution_count": null,
      "outputs": [
        {
          "name": "stdout",
          "text": [
            "0\n",
            "6\n",
            "18\n"
          ],
          "output_type": "stream"
        }
      ],
      "metadata": {
        "datalore": {
          "node_id": "KPtbXRy5UeK27OAxhP7I39",
          "type": "CODE",
          "hide_input_from_viewers": false,
          "hide_output_from_viewers": false,
          "report_properties": {
            "rowId": "5uOfyhu0dX47jovkcqV7OJ"
          }
        },
        "id": "MOnMlQN7EaKf",
        "outputId": "662821dd-e79b-40e1-edf2-ce243b190dc1"
      }
    },
    {
      "cell_type": "code",
      "source": [
        "imgs_2d_batch_2 = imgs_2d_batch.copy()\n",
        "imgs_2d_batch_2[0][6][18] += 1"
      ],
      "execution_count": null,
      "outputs": [],
      "metadata": {
        "datalore": {
          "node_id": "ZiQrGNNC6znbt3otiM6rcb",
          "type": "CODE",
          "hide_input_from_viewers": false,
          "hide_output_from_viewers": false,
          "report_properties": {
            "rowId": "okA7NC6trY1ZRuWYBsuK12"
          }
        },
        "id": "7qu_WDhAEaKf"
      }
    },
    {
      "cell_type": "code",
      "source": [
        "def _compute_output_2d_sum(img_batch: ndarray,\n",
        "                           param: ndarray):\n",
        "\n",
        "    out = _compute_output_2d(img_batch, param)\n",
        "\n",
        "    return out.sum()"
      ],
      "execution_count": null,
      "outputs": [],
      "metadata": {
        "datalore": {
          "node_id": "pAhmac4VhT7zJSFiX3x0b4",
          "type": "CODE",
          "hide_input_from_viewers": false,
          "hide_output_from_viewers": false,
          "report_properties": {
            "rowId": "rqoWtS0znQizpUyCj1n2CC"
          }
        },
        "id": "XNy3b7ysEaKf"
      }
    },
    {
      "cell_type": "code",
      "source": [
        "_compute_output_2d_sum(imgs_2d_batch_2, param_2d) - \\\n",
        "_compute_output_2d_sum(imgs_2d_batch, param_2d)"
      ],
      "execution_count": null,
      "outputs": [
        {
          "data": {
            "text/plain": [
              "-3.1843477398599163"
            ]
          },
          "metadata": {},
          "output_type": "display_data"
        }
      ],
      "metadata": {
        "datalore": {
          "node_id": "Rf55CzPlHjaZRYeOtLJCxg",
          "type": "CODE",
          "hide_input_from_viewers": false,
          "hide_output_from_viewers": false,
          "report_properties": {
            "rowId": "jaxCX3gfQRp6na9Y5IUCsD"
          }
        },
        "id": "4aa1G7MjEaKg",
        "outputId": "4bfec2d0-c728-4e41-801d-7a305dacf2ad"
      }
    },
    {
      "cell_type": "code",
      "source": [
        "img_grads[0][6][18]"
      ],
      "execution_count": null,
      "outputs": [
        {
          "data": {
            "text/plain": [
              "-3.184347739859924"
            ]
          },
          "metadata": {},
          "output_type": "display_data"
        }
      ],
      "metadata": {
        "datalore": {
          "node_id": "s7e7mKGtINGatOdi9ZG3mk",
          "type": "CODE",
          "hide_input_from_viewers": false,
          "hide_output_from_viewers": false,
          "report_properties": {
            "rowId": "r1gVbsmyDSb8ETPSkbgL81"
          }
        },
        "id": "dVb06EQIEaKg",
        "outputId": "674c4dfe-013d-4807-9bf3-65c70306fd1c"
      }
    },
    {
      "cell_type": "markdown",
      "source": [
        "### Param"
      ],
      "metadata": {
        "datalore": {
          "node_id": "H0TFpxzGQtf5amANuIg1ou",
          "type": "MD",
          "hide_input_from_viewers": false,
          "hide_output_from_viewers": false,
          "report_properties": {
            "rowId": "QzoOD4jTWRTvyzA8tB4pDC"
          }
        },
        "id": "4Ee5Cvf6EaKg"
      }
    },
    {
      "cell_type": "code",
      "source": [
        "print(np.random.randint(0, param_2d.shape[0]))\n",
        "print(np.random.randint(0, param_2d.shape[1]))"
      ],
      "execution_count": null,
      "outputs": [
        {
          "name": "stdout",
          "text": [
            "0\n",
            "2\n"
          ],
          "output_type": "stream"
        }
      ],
      "metadata": {
        "datalore": {
          "node_id": "Xb64UzDwceoQyxAOrQsSC3",
          "type": "CODE",
          "hide_input_from_viewers": false,
          "hide_output_from_viewers": false,
          "report_properties": {
            "rowId": "NBR30GzOsF84eNVHhVkhmq"
          }
        },
        "id": "scSOGYeFEaKg",
        "outputId": "e84347df-e017-4b13-8d9b-7094f35b97bf"
      }
    },
    {
      "cell_type": "code",
      "source": [
        "param_2d_2 = param_2d.copy()\n",
        "param_2d_2[0][2] += 1"
      ],
      "execution_count": null,
      "outputs": [],
      "metadata": {
        "datalore": {
          "node_id": "rqEWuheaYVfBF63f4XK55W",
          "type": "CODE",
          "hide_input_from_viewers": false,
          "hide_output_from_viewers": false,
          "report_properties": {
            "rowId": "5hDVa3I9hh6uTGws399Gwb"
          }
        },
        "id": "U36--2jjEaKg"
      }
    },
    {
      "cell_type": "code",
      "source": [
        "_compute_output_2d_sum(imgs_2d_batch, param_2d_2) - _compute_output_2d_sum(imgs_2d_batch, param_2d)"
      ],
      "execution_count": null,
      "outputs": [
        {
          "data": {
            "text/plain": [
              "5.53349015923007"
            ]
          },
          "metadata": {},
          "output_type": "display_data"
        }
      ],
      "metadata": {
        "datalore": {
          "node_id": "EWRmzreI5Szn6tqbHNJc4M",
          "type": "CODE",
          "hide_input_from_viewers": false,
          "hide_output_from_viewers": false,
          "report_properties": {
            "rowId": "GG9YosrgQbGKIb0tKDzy74"
          }
        },
        "id": "nUzrCnbsEaKg",
        "outputId": "2b696823-958b-4979-aa84-240fa1230015"
      }
    },
    {
      "cell_type": "code",
      "source": [
        "param_grad[0][2]"
      ],
      "execution_count": null,
      "outputs": [
        {
          "data": {
            "text/plain": [
              "5.533490159230001"
            ]
          },
          "metadata": {},
          "output_type": "display_data"
        }
      ],
      "metadata": {
        "datalore": {
          "node_id": "2aMZbo797EebIO61ORCGUj",
          "type": "CODE",
          "hide_input_from_viewers": false,
          "hide_output_from_viewers": false,
          "report_properties": {
            "rowId": "wRwjmc8cuFSqWLAJsnX8Ez"
          }
        },
        "id": "18r3xDpAEaKg",
        "outputId": "c21b5d41-7308-4b99-94bd-0a3b00dc41f3"
      }
    },
    {
      "cell_type": "markdown",
      "source": [
        "## With channels + batch size"
      ],
      "metadata": {
        "datalore": {
          "node_id": "ZBmvmWMxe4R9mBknZ9k0Ly",
          "type": "MD",
          "hide_input_from_viewers": false,
          "hide_output_from_viewers": false,
          "report_properties": {
            "rowId": "axcmrdrSvojUT4ntvCpZHP"
          }
        },
        "id": "T6YWhs31EaKg"
      }
    },
    {
      "cell_type": "markdown",
      "source": [
        "### Helper"
      ],
      "metadata": {
        "datalore": {
          "node_id": "G6tieJ8Vw8XoI4m9iVqXMU",
          "type": "MD",
          "hide_input_from_viewers": false,
          "hide_output_from_viewers": false,
          "report_properties": {
            "rowId": "6Tr4POYxivkiiL8JnvYzgZ"
          }
        },
        "id": "j6tJVM8BEaKg"
      }
    },
    {
      "cell_type": "code",
      "source": [
        "def _pad_2d_channel(inp: ndarray,\n",
        "                    num: int):\n",
        "    '''\n",
        "    inp has dimension [num_channels, image_width, image_height]\n",
        "    '''\n",
        "    return np.stack([_pad_2d_obs(channel, num) for channel in inp])\n",
        "\n",
        "def _pad_conv_input(inp: ndarray,\n",
        "                    num: int):\n",
        "    '''\n",
        "    inp has dimension [batch_size, num_channels, image_width, image_height]\n",
        "    '''\n",
        "    return np.stack([_pad_2d_channel(obs, num) for obs in inp])"
      ],
      "execution_count": null,
      "outputs": [],
      "metadata": {
        "datalore": {
          "node_id": "zld8UBn7ch95CyzZDiDKxV",
          "type": "CODE",
          "hide_input_from_viewers": false,
          "hide_output_from_viewers": false,
          "report_properties": {
            "rowId": "tzql5rhFOc1iLpSWw0s6je"
          }
        },
        "id": "hjrgDz-MEaKg"
      }
    },
    {
      "cell_type": "markdown",
      "source": [
        "### Forward"
      ],
      "metadata": {
        "datalore": {
          "node_id": "htCD6I3BsIGJDjMs9SKVa2",
          "type": "MD",
          "hide_input_from_viewers": false,
          "hide_output_from_viewers": false,
          "report_properties": {
            "rowId": "YMK3YeBYKxw992edahOc1O"
          }
        },
        "id": "U0_8eBzcEaKg"
      }
    },
    {
      "cell_type": "code",
      "source": [
        "def _compute_output_obs(obs: ndarray,\n",
        "                        param: ndarray):\n",
        "    '''\n",
        "    obs: [channels, img_width, img_height]\n",
        "    param: [in_channels, out_channels, fil_width, fil_height]\n",
        "    '''\n",
        "    assert_dim(obs, 3)\n",
        "    assert_dim(param, 4)\n",
        "\n",
        "    param_size = param.shape[2]\n",
        "    param_mid = param_size // 2\n",
        "    obs_pad = _pad_2d_channel(obs, param_mid)\n",
        "\n",
        "    in_channels = param.shape[0]\n",
        "    out_channels = param.shape[1]\n",
        "    img_size = obs.shape[1]\n",
        "\n",
        "    out = np.zeros((out_channels,) + obs.shape[1:])\n",
        "    for c_in in range(in_channels):\n",
        "        for c_out in range(out_channels):\n",
        "            for o_w in range(img_size):\n",
        "                for o_h in range(img_size):\n",
        "                    for p_w in range(param_size):\n",
        "                        for p_h in range(param_size):\n",
        "                            out[c_out][o_w][o_h] += \\\n",
        "                            param[c_in][c_out][p_w][p_h] * obs_pad[c_in][o_w+p_w][o_h+p_h]\n",
        "    return out\n",
        "\n",
        "def _output(inp: ndarray,\n",
        "                    param: ndarray) -> ndarray:\n",
        "    '''\n",
        "    obs: [batch_size, channels, img_width, img_height]\n",
        "    fil: [in_channels, out_channels, fil_width, fil_height]\n",
        "    '''\n",
        "    outs = [_compute_output_obs(obs, param) for obs in inp]\n",
        "\n",
        "    return np.stack(outs)"
      ],
      "execution_count": null,
      "outputs": [],
      "metadata": {
        "datalore": {
          "node_id": "t30Bf0ZyaLkj5LXoEmpPFF",
          "type": "CODE",
          "hide_input_from_viewers": false,
          "hide_output_from_viewers": false,
          "report_properties": {
            "rowId": "veJDQj5nNizN2ucb4kclas"
          }
        },
        "id": "IKe5vNgpEaKg"
      }
    },
    {
      "cell_type": "markdown",
      "source": [
        "### Backward"
      ],
      "metadata": {
        "datalore": {
          "node_id": "WIMQZBIgOlZQNvoRdyp3XW",
          "type": "MD",
          "hide_input_from_viewers": false,
          "hide_output_from_viewers": false,
          "report_properties": {
            "rowId": "XD4BwH0pNuMGJQLiI8aciV"
          }
        },
        "id": "dG1WMvRaEaKg"
      }
    },
    {
      "cell_type": "code",
      "source": [
        "def _compute_grads_obs(input_obs: ndarray,\n",
        "                       output_grad_obs: ndarray,\n",
        "                       param: ndarray) -> ndarray:\n",
        "    '''\n",
        "    input_obs: [in_channels, img_width, img_height]\n",
        "    output_grad_obs: [out_channels, img_width, img_height]\n",
        "    param: [in_channels, out_channels, img_width, img_height]\n",
        "    '''\n",
        "    input_grad = np.zeros_like(input_obs)\n",
        "    param_size = param.shape[2]\n",
        "    param_mid = param_size // 2\n",
        "    img_size = input_obs.shape[1]\n",
        "    in_channels = input_obs.shape[0]\n",
        "    out_channels = param.shape[1]\n",
        "    output_obs_pad = _pad_2d_channel(output_grad_obs, param_mid)\n",
        "\n",
        "    for c_in in range(in_channels):\n",
        "        for c_out in range(out_channels):\n",
        "            for i_w in range(input_obs.shape[1]):\n",
        "                for i_h in range(input_obs.shape[2]):\n",
        "                    for p_w in range(param_size):\n",
        "                        for p_h in range(param_size):\n",
        "                            input_grad[c_in][i_w][i_h] += \\\n",
        "                            output_obs_pad[c_out][i_w+param_size-p_w-1][i_h+param_size-p_h-1] \\\n",
        "                            * param[c_in][c_out][p_w][p_h]\n",
        "    return input_grad\n",
        "\n",
        "def _input_grad(inp: ndarray,\n",
        "                output_grad: ndarray,\n",
        "                param: ndarray) -> ndarray:\n",
        "\n",
        "    grads = [_compute_grads_obs(inp[i], output_grad[i], param) for i in range(output_grad.shape[0])]\n",
        "\n",
        "    return np.stack(grads)"
      ],
      "execution_count": null,
      "outputs": [],
      "metadata": {
        "datalore": {
          "node_id": "72q3gaeedkjj0jvPqSbIqP",
          "type": "CODE",
          "hide_input_from_viewers": false,
          "hide_output_from_viewers": false,
          "report_properties": {
            "rowId": "Dd2Eqf5MwzHmULwvnaluEC"
          }
        },
        "id": "fqP5GiDyEaKh"
      }
    },
    {
      "cell_type": "code",
      "source": [
        "def _param_grad(inp: ndarray,\n",
        "                output_grad: ndarray,\n",
        "                param: ndarray) -> ndarray:\n",
        "    '''\n",
        "    inp: [in_channels, img_width, img_height]\n",
        "    output_grad_obs: [out_channels, img_width, img_height]\n",
        "    param: [in_channels, out_channels, img_width, img_height]\n",
        "    '''\n",
        "    param_grad = np.zeros_like(param)\n",
        "    param_size = param.shape[2]\n",
        "    param_mid = param_size // 2\n",
        "    img_size = inp.shape[2]\n",
        "    in_channels = inp.shape[1]\n",
        "    out_channels = output_grad.shape[1]\n",
        "\n",
        "    inp_pad = _pad_conv_input(inp, param_mid)\n",
        "    img_shape = output_grad.shape[2:]\n",
        "\n",
        "    for i in range(inp.shape[0]):\n",
        "        for c_in in range(in_channels):\n",
        "            for c_out in range(out_channels):\n",
        "                for o_w in range(img_shape[0]):\n",
        "                    for o_h in range(img_shape[1]):\n",
        "                        for p_w in range(param_size):\n",
        "                            for p_h in range(param_size):\n",
        "                                param_grad[c_in][c_out][p_w][p_h] += \\\n",
        "                                inp_pad[i][c_in][o_w+p_w][o_h+p_h] \\\n",
        "                                * output_grad[i][c_out][o_w][o_h]\n",
        "    return param_grad"
      ],
      "execution_count": null,
      "outputs": [],
      "metadata": {
        "datalore": {
          "node_id": "I2IoIFshng3gpVhRr1DhOf",
          "type": "CODE",
          "hide_input_from_viewers": false,
          "hide_output_from_viewers": false,
          "report_properties": {
            "rowId": "zclaQZDcqEFI78RbLPslyi"
          }
        },
        "id": "d9e93R8oEaKh"
      }
    },
    {
      "cell_type": "markdown",
      "source": [
        "## Testing gradients"
      ],
      "metadata": {
        "datalore": {
          "node_id": "9HhjhGLPNBpyLIEF8EtAFs",
          "type": "MD",
          "hide_input_from_viewers": false,
          "hide_output_from_viewers": false,
          "report_properties": {
            "rowId": "EZnjGqCOOKdw6BHD7XJ8j9"
          }
        },
        "id": "Ge10lJH2EaKh"
      }
    },
    {
      "cell_type": "code",
      "source": [
        "cifar_imgs = np.random.randn(10, 3, 32, 32)\n",
        "cifar_param = np.random.randn(3, 16, 5, 5)"
      ],
      "execution_count": null,
      "outputs": [],
      "metadata": {
        "datalore": {
          "node_id": "EOrsJ1t8pK994ACD6b18Nh",
          "type": "CODE",
          "hide_input_from_viewers": false,
          "hide_output_from_viewers": false,
          "report_properties": {
            "rowId": "3PWvyicp6tWfypVf5y7Me8"
          }
        },
        "id": "NKdkzvciEaKh"
      }
    },
    {
      "cell_type": "code",
      "source": [
        "print(np.random.randint(0, cifar_imgs.shape[0]))\n",
        "print(np.random.randint(0, cifar_imgs.shape[1]))\n",
        "print(np.random.randint(0, cifar_imgs.shape[2]))\n",
        "print(np.random.randint(0, cifar_imgs.shape[3]))\n",
        "print()\n",
        "print(np.random.randint(0, cifar_param.shape[0]))\n",
        "print(np.random.randint(0, cifar_param.shape[1]))\n",
        "print(np.random.randint(0, cifar_param.shape[2]))\n",
        "print(np.random.randint(0, cifar_param.shape[3]))"
      ],
      "execution_count": null,
      "outputs": [
        {
          "name": "stdout",
          "text": [
            "3\n",
            "1\n",
            "2\n",
            "19\n",
            "\n",
            "0\n",
            "8\n",
            "0\n",
            "2\n"
          ],
          "output_type": "stream"
        }
      ],
      "metadata": {
        "datalore": {
          "node_id": "BSYfAAZwDSMnzlXEIT7gxI",
          "type": "CODE",
          "hide_input_from_viewers": false,
          "hide_output_from_viewers": false,
          "report_properties": {
            "rowId": "bFgLxHBm0YtCi1aYLYFSQA"
          }
        },
        "id": "WbTx19fZEaKh",
        "outputId": "6472c0b9-e70a-4eb0-cab8-d1e508e831ea"
      }
    },
    {
      "cell_type": "code",
      "source": [
        "def _compute_output_sum(imgs: ndarray,\n",
        "                        param: ndarray):\n",
        "    return _output(imgs, param).sum()"
      ],
      "execution_count": null,
      "outputs": [],
      "metadata": {
        "datalore": {
          "node_id": "WVKBZl6zWKyB89nPXLO6i0",
          "type": "CODE",
          "hide_input_from_viewers": false,
          "hide_output_from_viewers": false,
          "report_properties": {
            "rowId": "focMCski0GTXxLt7yPOOqz"
          }
        },
        "id": "l0hyDcgdEaKh"
      }
    },
    {
      "cell_type": "markdown",
      "source": [
        "### Input grad"
      ],
      "metadata": {
        "datalore": {
          "node_id": "JI1deJ56KXiKNRWpnVEU9q",
          "type": "MD",
          "hide_input_from_viewers": false,
          "hide_output_from_viewers": false,
          "report_properties": {
            "rowId": "IjYEBcLB4IrqF4HT1Vhcmk"
          }
        },
        "id": "E8yMvuhREaKh"
      }
    },
    {
      "cell_type": "code",
      "source": [
        "cifar_imgs_2 = cifar_imgs.copy()\n",
        "cifar_imgs_2[3][1][2][19] += 1"
      ],
      "execution_count": null,
      "outputs": [],
      "metadata": {
        "datalore": {
          "node_id": "9rlNonlaYWveVXB5hYY1jP",
          "type": "CODE",
          "hide_input_from_viewers": false,
          "hide_output_from_viewers": false,
          "report_properties": {
            "rowId": "UrU9ngWWo4bdLLDn942ZKX"
          }
        },
        "id": "e1wUNwtdEaKh"
      }
    },
    {
      "cell_type": "code",
      "source": [
        "_compute_output_sum(cifar_imgs_2, cifar_param) - _compute_output_sum(cifar_imgs, cifar_param)"
      ],
      "execution_count": null,
      "outputs": [
        {
          "data": {
            "text/plain": [
              "2.345298758707486"
            ]
          },
          "metadata": {},
          "output_type": "display_data"
        }
      ],
      "metadata": {
        "datalore": {
          "node_id": "KADJBaK4Ik89eydfnLdaGW",
          "type": "CODE",
          "hide_input_from_viewers": false,
          "hide_output_from_viewers": false,
          "report_properties": {
            "rowId": "V0bGCy1NyIvA1ocAbysylF"
          }
        },
        "id": "RUPjK-NtEaKh",
        "outputId": "00a8ca4f-03e5-4bab-ddbc-af8aabbbd407"
      }
    },
    {
      "cell_type": "code",
      "source": [
        "_input_grad(cifar_imgs,\n",
        "            np.ones((10, 16, 32, 32)),\n",
        "            cifar_param)[3][1][2][19]"
      ],
      "execution_count": null,
      "outputs": [
        {
          "data": {
            "text/plain": [
              "2.3452987587074423"
            ]
          },
          "metadata": {},
          "output_type": "display_data"
        }
      ],
      "metadata": {
        "datalore": {
          "node_id": "DRh9dNg4IgAtFbkpOxgsqP",
          "type": "CODE",
          "hide_input_from_viewers": false,
          "hide_output_from_viewers": false,
          "report_properties": {
            "rowId": "aKSdP6cLEYb9Zu3LrVcCxS"
          }
        },
        "id": "ZiGEQzGkEaKi",
        "outputId": "50781b8e-4f12-41e6-e6da-636dae1e834d"
      }
    },
    {
      "cell_type": "markdown",
      "source": [
        "### Param grad"
      ],
      "metadata": {
        "datalore": {
          "node_id": "VnSneZV32bVGfTAHgf79t3",
          "type": "MD",
          "hide_input_from_viewers": false,
          "hide_output_from_viewers": false,
          "report_properties": {
            "rowId": "dEQQAtkRrV1HOogtvUxy5W"
          }
        },
        "id": "3MtNOzs5EaKi"
      }
    },
    {
      "cell_type": "code",
      "source": [
        "cifar_param_2 = cifar_param.copy()\n",
        "cifar_param_2[0][8][0][2] += 1"
      ],
      "execution_count": null,
      "outputs": [],
      "metadata": {
        "datalore": {
          "node_id": "JsyW1FgsVyopVQlh58n3MZ",
          "type": "CODE",
          "hide_input_from_viewers": false,
          "hide_output_from_viewers": false,
          "report_properties": {
            "rowId": "KGha9CyDzohHbC2FOtLOUS"
          }
        },
        "id": "YVjJRjQQEaKi"
      }
    },
    {
      "cell_type": "code",
      "source": [
        "_compute_output_sum(cifar_imgs, cifar_param_2) - _compute_output_sum(cifar_imgs, cifar_param)"
      ],
      "execution_count": null,
      "outputs": [
        {
          "data": {
            "text/plain": [
              "-47.09123124155292"
            ]
          },
          "metadata": {},
          "output_type": "display_data"
        }
      ],
      "metadata": {
        "datalore": {
          "node_id": "3YtjYfGwvKfbusLG6tMFpu",
          "type": "CODE",
          "hide_input_from_viewers": false,
          "hide_output_from_viewers": false,
          "report_properties": {
            "rowId": "Ybv2z7dGoNxHIImbZrBM3b"
          }
        },
        "id": "uL21bj7DEaKi",
        "outputId": "961ee3e4-be81-432c-9226-f9150319ed7a"
      }
    },
    {
      "cell_type": "code",
      "source": [
        "_param_grad(cifar_imgs,\n",
        "            np.ones((10, 16, 32, 32)),\n",
        "            cifar_param)[0][8][0][2]"
      ],
      "execution_count": null,
      "outputs": [
        {
          "data": {
            "text/plain": [
              "-47.0912312415532"
            ]
          },
          "metadata": {},
          "output_type": "display_data"
        }
      ],
      "metadata": {
        "datalore": {
          "node_id": "3RXKR8LqlY7luvOMSquz6p",
          "type": "CODE",
          "hide_input_from_viewers": false,
          "hide_output_from_viewers": false,
          "report_properties": {
            "rowId": "h1olq5xFrd2QKZwbfJuyqg"
          }
        },
        "id": "MK__pr8SEaKi",
        "outputId": "76e217d5-6fcb-406c-fc67-bf6b419be660"
      }
    }
  ],
  "metadata": {
    "kernelspec": {
      "display_name": "Python",
      "language": "python",
      "name": "python"
    },
    "datalore": {
      "computation_mode": "JUPYTER",
      "package_manager": "pip",
      "base_environment": "default",
      "packages": [],
      "report_row_ids": [
        "OlPP1gAHW5ZopQIn8v94Ch",
        "i28rkikU27gdueMXqHFNUR",
        "O8URkP449WEOTJ5T4TPprU",
        "DGkqd5tvwiLC1exIbqaAmz",
        "aY5YU4jD83Pkry63QRlWWz",
        "tMda6VUTrhn8SumKDU8WIE",
        "11J3QYsvQdJdLWbOBeqkYM",
        "HOxSdXzlRApV9NFiUPFwWH",
        "uKxeAp7IE5TQyvFtOd8tCw",
        "CqB5jmXB8EXBnPbqorpUR9",
        "D7D4h8nWrs3GPmBJa1UxOx",
        "h8RgvQLGHFt8nZnLyvtlqF",
        "vA3fKr9xisHfcUvy2GXTvm",
        "CSnKyMdWjqKFmHNFgE9WAT",
        "hMm5qDMFjSlp7oRiPIfEMm",
        "7FeyAt8oW10B8MhefzJkEJ",
        "zLZiH4tTcoVkdvBFT6vxUO",
        "WhuWPinnNXnhsQDrzMfu5u",
        "hHJxZK9mV4FMwX6GUFpqAE",
        "pzlspgj5IPkb5exynQU73i",
        "Ucgf2IzxObm6Yqr9attz4J",
        "BKrqAXPO5ZSgNJeKhQExDa",
        "lONXAqPkfvMcCBtgg5cdVV",
        "k3j0rNnTxBF6KXMdlOytX6",
        "S0m2zo2a03K0r2ocEbfSkV",
        "m5wRlR8vGabfsv8TCPvAEL",
        "p6IMxuAlj8KtNnt7ATsXFk",
        "GdBN03qus34dXtJG0ixte8",
        "pbneo9q4IkGiCJ8HeoV6ol",
        "JYmGgGQNKVN7PkSVKi1ryB",
        "reTHXDMOUOfmh3VbHGYaTj",
        "mnO1DzJ3fQBzmWB8adYslZ",
        "g5idEZyHjjuy9q7s3MKzko",
        "WAUe5k5idThRiGw12NdwmY",
        "eDAOZBHSGnDef5hbyAdnKm",
        "2apaLvNn0equpH6pn4k3Fy",
        "gSjh6UbL154RouU3CR3LJO",
        "797GXPo1LhR8EdA1ayQ55C",
        "hQ7uUJvZ5KgHlS9vEu6V3T",
        "DBtvvOx5LHQGu3siMn3riF",
        "IQWhc4MGFwDBWQOQ1RVuu4",
        "nBm7BzHeEVaryrQnA5Je2h",
        "x1Hcnz1OO5W0mQEVkHrfbo",
        "Re7p7oR6uXNssp7HjWjFgD",
        "Et29QQMjyVyujrZ4gLqOHY",
        "KhhQ9NifZjGwD7EgLRJh3O",
        "c6IhbMQw4383hrvR7Vzc0O",
        "QWMnK8ClrGjSkpLrwBNWmh",
        "cSXbTL42VebzFcD8ybqxu2",
        "jOvHV4zAeaDyIjbodYNJQS",
        "DolWrf9yrVCvnWDE0tiawZ",
        "G7XYgYVddlH1ff77hraq4p",
        "T5q8kGb8SDGWnHfUXOd0uA",
        "jYdyswEne1dgJhHIYZAETg",
        "2zbIgRuaL7LILBisKYuYJl",
        "hK4jAs3DzwcUKVIuXEC0FX",
        "RVZgMTT5ISKbgKaqbwY02x",
        "8wXzuinGq1iMnuFziptNBY",
        "qFdoSN7UjQJWb8980InipA",
        "snW4ZQviqX4mixmgRxzgBb",
        "hxLpUZrjZxVa9wudcj0BnS",
        "qEq65ztM7LK0t3tBjJsUK5",
        "fM87gFVXNbT9mfzxgkri9x",
        "qSMcb33NDaZFXh02gwmyRw",
        "KiW3E8KnSKrhIcm6LP4sYO",
        "5uOfyhu0dX47jovkcqV7OJ",
        "okA7NC6trY1ZRuWYBsuK12",
        "rqoWtS0znQizpUyCj1n2CC",
        "jaxCX3gfQRp6na9Y5IUCsD",
        "r1gVbsmyDSb8ETPSkbgL81",
        "QzoOD4jTWRTvyzA8tB4pDC",
        "NBR30GzOsF84eNVHhVkhmq",
        "5hDVa3I9hh6uTGws399Gwb",
        "GG9YosrgQbGKIb0tKDzy74",
        "wRwjmc8cuFSqWLAJsnX8Ez",
        "axcmrdrSvojUT4ntvCpZHP",
        "6Tr4POYxivkiiL8JnvYzgZ",
        "tzql5rhFOc1iLpSWw0s6je",
        "YMK3YeBYKxw992edahOc1O",
        "veJDQj5nNizN2ucb4kclas",
        "XD4BwH0pNuMGJQLiI8aciV",
        "Dd2Eqf5MwzHmULwvnaluEC",
        "zclaQZDcqEFI78RbLPslyi",
        "EZnjGqCOOKdw6BHD7XJ8j9",
        "3PWvyicp6tWfypVf5y7Me8",
        "bFgLxHBm0YtCi1aYLYFSQA",
        "focMCski0GTXxLt7yPOOqz",
        "IjYEBcLB4IrqF4HT1Vhcmk",
        "UrU9ngWWo4bdLLDn942ZKX",
        "V0bGCy1NyIvA1ocAbysylF",
        "aKSdP6cLEYb9Zu3LrVcCxS",
        "dEQQAtkRrV1HOogtvUxy5W",
        "KGha9CyDzohHbC2FOtLOUS",
        "Ybv2z7dGoNxHIImbZrBM3b",
        "h1olq5xFrd2QKZwbfJuyqg"
      ],
      "version": 3
    },
    "colab": {
      "provenance": [],
      "include_colab_link": true
    }
  },
  "nbformat": 4,
  "nbformat_minor": 0
}