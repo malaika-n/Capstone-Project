{
  "cells": [
    {
      "cell_type": "markdown",
      "metadata": {
        "id": "view-in-github",
        "colab_type": "text"
      },
      "source": [
        "<a href=\"https://colab.research.google.com/github/malaika-n/Capstone-Project/blob/main/foundational_code_for_capstone.ipynb\" target=\"_parent\"><img src=\"https://colab.research.google.com/assets/colab-badge.svg\" alt=\"Open In Colab\"/></a>"
      ]
    },
    {
      "cell_type": "markdown",
      "source": [
        "## Imports"
      ],
      "metadata": {
        "datalore": {
          "node_id": "XgFpifT2ubVxzbrjzr39ym",
          "type": "MD",
          "hide_input_from_viewers": false,
          "hide_output_from_viewers": false,
          "report_properties": {
            "rowId": "RZNpWYpMmbrkkh9ajwtIir"
          }
        },
        "id": "qFNeIfKuDa8_"
      }
    },
    {
      "cell_type": "code",
      "source": [
        "import matplotlib.pyplot as plt\n",
        "import matplotlib\n",
        "import numpy as np\n",
        "from numpy import ndarray\n",
        "%matplotlib inline\n",
        "\n",
        "from typing import Callable\n",
        "from typing import Dict"
      ],
      "execution_count": null,
      "outputs": [],
      "metadata": {
        "datalore": {
          "node_id": "1cgqCDVP7ylkKrR6FZ2t24",
          "type": "CODE",
          "hide_input_from_viewers": false,
          "hide_output_from_viewers": false,
          "report_properties": {
            "rowId": "4dpggekSBLJ37HqfpVwNlD"
          }
        },
        "id": "UuOdPN1yDa9B"
      }
    },
    {
      "cell_type": "code",
      "source": [
        "np.set_printoptions(precision=4)"
      ],
      "execution_count": null,
      "outputs": [],
      "metadata": {
        "datalore": {
          "node_id": "3x7JJ8S2DI1yIqOSBVEQSY",
          "type": "CODE",
          "hide_input_from_viewers": false,
          "hide_output_from_viewers": false,
          "report_properties": {
            "rowId": "XTW1lswUv0ufz3HZ2kHLBg"
          }
        },
        "id": "96pvxE2CDa9C"
      }
    },
    {
      "cell_type": "markdown",
      "source": [
        "# Illustration of Python lists vs. Numpy arrays"
      ],
      "metadata": {
        "datalore": {
          "node_id": "QkcUd1eQBf4wxw0LGUhdvH",
          "type": "MD",
          "hide_input_from_viewers": false,
          "hide_output_from_viewers": false,
          "report_properties": {
            "rowId": "8e5I9UYFNwhxa8mgs3fYcs"
          }
        },
        "id": "AvJS_3HjDa9C"
      }
    },
    {
      "cell_type": "code",
      "source": [
        "print(\"Python list operations:\")\n",
        "a = [1,2,3]\n",
        "b = [4,5,6]\n",
        "print(\"a+b:\", a + b)\n",
        "try:\n",
        "    print(a * b)\n",
        "except TypeError:\n",
        "    print(\"a*b has no meaning for Python lists\")\n",
        "print()\n",
        "print(\"Numpy array operations:\")\n",
        "a = np.array([1,2,3])\n",
        "b = np.array([4,5,6])\n",
        "print(\"a+b:\", a + b)\n",
        "print(\"a*b:\", a * b)"
      ],
      "execution_count": null,
      "outputs": [
        {
          "output_type": "stream",
          "name": "stdout",
          "text": [
            "Python list operations:\n",
            "a+b: [1, 2, 3, 4, 5, 6]\n",
            "a*b has no meaning for Python lists\n",
            "\n",
            "Numpy array operations:\n",
            "a+b: [5 7 9]\n",
            "a*b: [ 4 10 18]\n"
          ]
        }
      ],
      "metadata": {
        "datalore": {
          "node_id": "9GsqwIJt9azu86AzbKp8Ua",
          "type": "CODE",
          "hide_input_from_viewers": false,
          "hide_output_from_viewers": false,
          "report_properties": {
            "rowId": "2ilqxsH3mP4RwudbKZJ0eZ"
          }
        },
        "colab": {
          "base_uri": "https://localhost:8080/"
        },
        "id": "hPkgxeWnDa9D",
        "outputId": "0fd9b518-89f1-427c-8e76-dad73c5a92f9"
      }
    },
    {
      "cell_type": "code",
      "source": [
        "a = np.array([[1,2,3],\n",
        "              [4,5,6]])\n",
        "print(a)"
      ],
      "execution_count": null,
      "outputs": [
        {
          "output_type": "stream",
          "name": "stdout",
          "text": [
            "[[1 2 3]\n",
            " [4 5 6]]\n"
          ]
        }
      ],
      "metadata": {
        "datalore": {
          "node_id": "rne44yCxwll1nDrH9w9s0W",
          "type": "CODE",
          "hide_input_from_viewers": false,
          "hide_output_from_viewers": false,
          "report_properties": {
            "rowId": "Gp3KTeyRGGkgAMrsid4iRJ"
          }
        },
        "colab": {
          "base_uri": "https://localhost:8080/"
        },
        "id": "8i0I1sarDa9D",
        "outputId": "9bc089ea-574a-4b3b-87c3-4d06fbfa0774"
      }
    },
    {
      "cell_type": "code",
      "source": [
        "b = np.array([10,20,30])\n",
        "print(\"a + b:\\n\", a + b)"
      ],
      "execution_count": null,
      "outputs": [
        {
          "output_type": "stream",
          "name": "stdout",
          "text": [
            "a + b:\n",
            " [[11 22 33]\n",
            " [14 25 36]]\n"
          ]
        }
      ],
      "metadata": {
        "datalore": {
          "node_id": "aCFwS7gMtGwX901ux9qpR1",
          "type": "CODE",
          "hide_input_from_viewers": false,
          "hide_output_from_viewers": false,
          "report_properties": {
            "rowId": "Vp9BbOsbT8WZAuMhUQ55s5"
          }
        },
        "colab": {
          "base_uri": "https://localhost:8080/"
        },
        "id": "NrHyMifCDa9D",
        "outputId": "c653de5c-0a9b-4403-a864-262a582ca662"
      }
    },
    {
      "cell_type": "code",
      "source": [
        "print('a:')\n",
        "print(a)\n",
        "print('a.sum(axis=0):', a.sum(axis=0))\n",
        "print('a.sum(axis=1):', a.sum(axis=1))"
      ],
      "execution_count": null,
      "outputs": [
        {
          "output_type": "stream",
          "name": "stdout",
          "text": [
            "a:\n",
            "[[1 2 3]\n",
            " [4 5 6]]\n",
            "a.sum(axis=0): [5 7 9]\n",
            "a.sum(axis=1): [ 6 15]\n"
          ]
        }
      ],
      "metadata": {
        "datalore": {
          "node_id": "i3FOsr0zX9A97DVdBu1PYy",
          "type": "CODE",
          "hide_input_from_viewers": false,
          "hide_output_from_viewers": false,
          "report_properties": {
            "rowId": "kXf2QWbUY8TLOas8TSYTTi"
          }
        },
        "colab": {
          "base_uri": "https://localhost:8080/"
        },
        "id": "0WrmBGz9Da9E",
        "outputId": "29063abc-0b43-45be-9c98-ee5c0cc7748f"
      }
    },
    {
      "cell_type": "markdown",
      "source": [
        "# Basic functions"
      ],
      "metadata": {
        "datalore": {
          "node_id": "cY5uJWiOdWfmv9fENRi1N7",
          "type": "MD",
          "hide_input_from_viewers": false,
          "hide_output_from_viewers": false,
          "report_properties": {
            "rowId": "BBunbaIHJFbTpIK9lBbzLb"
          }
        },
        "id": "ktJ_k-AUDa9E"
      }
    },
    {
      "cell_type": "code",
      "source": [
        "def square(x: ndarray) -> ndarray:\n",
        "    '''\n",
        "    Square each element in the input ndarray.\n",
        "    '''\n",
        "    return np.power(x, 2)\n",
        "\n",
        "def leaky_relu(x: ndarray) -> ndarray:\n",
        "    '''\n",
        "    Apply \"Leaky ReLU\" function to each element in ndarray\n",
        "    '''\n",
        "    return np.maximum(0.2 * x, x)"
      ],
      "execution_count": null,
      "outputs": [],
      "metadata": {
        "datalore": {
          "node_id": "tZQMghFjVRfTDANVHUUJTl",
          "type": "CODE",
          "hide_input_from_viewers": false,
          "hide_output_from_viewers": false,
          "report_properties": {
            "rowId": "YCFzO5SRBWy9ZukMAbfLM6"
          }
        },
        "id": "8aUnoHwIDa9E"
      }
    },
    {
      "cell_type": "code",
      "source": [
        "# IMG_FOLDER_PATH = '/Users/malaika/Desktop/CSC-499/capstone images/foundation'\n",
        "# PDF_IMG_FOLDER_PATH = '/Users/malaika/Desktop/CSC-499/capstone images/foundation'"
      ],
      "execution_count": null,
      "outputs": [],
      "metadata": {
        "datalore": {
          "node_id": "5CTGyME5sMGQUlU5jp2CJi",
          "type": "CODE",
          "hide_input_from_viewers": false,
          "hide_output_from_viewers": false,
          "report_properties": {
            "rowId": "Xr1LWqQNx2feivsx2L7VHs"
          }
        },
        "id": "8SmIC_QlDa9F"
      }
    },
    {
      "cell_type": "code",
      "source": [
        "fig, ax = plt.subplots(1, 2, sharey=True, figsize=(12, 6))  # 2 Rows, 1 Col\n",
        "\n",
        "input_range = np.arange(-2, 2, 0.01)\n",
        "ax[0].plot(input_range, square(input_range))\n",
        "ax[0].plot(input_range, square(input_range))\n",
        "ax[0].set_title('Square function')\n",
        "ax[0].set_xlabel('input')\n",
        "ax[0].set_ylabel('input')\n",
        "\n",
        "ax[1].plot(input_range, leaky_relu(input_range))\n",
        "ax[1].plot(input_range, leaky_relu(input_range))\n",
        "ax[1].set_title('\"ReLU\" function')\n",
        "ax[1].set_xlabel('input')\n",
        "ax[1].set_ylabel('output');\n",
        "# plt.savefig(IMG_FOLDER_PATH + \"01_two_functions.png\")\n",
        "# plt.savefig(PDF_IMG_FOLDER_PATH + \"01_two_functions.pdf\")"
      ],
      "execution_count": null,
      "outputs": [
        {
          "output_type": "display_data",
          "data": {
            "text/plain": [
              "<Figure size 1200x600 with 2 Axes>"
            ],
            "image/png": "[encoded data removed]"
          },
          "metadata": {}
        }
      ],
      "metadata": {
        "datalore": {
          "node_id": "5ZFm3K6wbcJldQOVJTBshA",
          "type": "CODE",
          "hide_input_from_viewers": false,
          "hide_output_from_viewers": false,
          "report_properties": {
            "rowId": "ZqtJYDyth1K0hIv9rVZk3u"
          }
        },
        "colab": {
          "base_uri": "https://localhost:8080/",
          "height": 564
        },
        "id": "3d-nNFh9Da9F",
        "outputId": "eb3d905d-3c7c-4529-d080-e83774a58429"
      }
    },
    {
      "cell_type": "code",
      "source": [
        "from typing import Callable\n",
        "\n",
        "def deriv(func: Callable[[ndarray], ndarray],\n",
        "          input_: ndarray,\n",
        "          diff: float = 0.001) -> ndarray:\n",
        "    '''\n",
        "    Evaluates the derivative of a function \"func\" at every element in the \"input_\" array.\n",
        "    '''\n",
        "    return (func(input_ + diff) - func(input_ - diff)) / (2 * diff)"
      ],
      "execution_count": null,
      "outputs": [],
      "metadata": {
        "datalore": {
          "node_id": "auBkZ4fGoMiH6IVKIL01XO",
          "type": "CODE",
          "hide_input_from_viewers": false,
          "hide_output_from_viewers": false,
          "report_properties": {
            "rowId": "G23mDB4826nqZ0jhSeFBOG"
          }
        },
        "id": "5lL2RprMDa9F"
      }
    },
    {
      "cell_type": "markdown",
      "source": [
        "# `Chain`"
      ],
      "metadata": {
        "datalore": {
          "node_id": "VejKAYJCPCEgPoJ2MCZhWA",
          "type": "MD",
          "hide_input_from_viewers": false,
          "hide_output_from_viewers": false,
          "report_properties": {
            "rowId": "vuUMQ0NLrIpvjNlr8iXIa3"
          }
        },
        "id": "uHR25NwrDa9F"
      }
    },
    {
      "cell_type": "code",
      "source": [
        "from typing import List\n",
        "\n",
        "# A Function takes in an ndarray as an argument and produces an ndarray\n",
        "Array_Function = Callable[[ndarray], ndarray]\n",
        "\n",
        "# A Chain is a list of functions\n",
        "Chain = List[Array_Function]"
      ],
      "execution_count": null,
      "outputs": [],
      "metadata": {
        "datalore": {
          "node_id": "z9uQ3uqgYNuD2VL1WFRZAS",
          "type": "CODE",
          "hide_input_from_viewers": false,
          "hide_output_from_viewers": false,
          "report_properties": {
            "rowId": "UNYJeSoSZVLEPobgJxyXTg"
          }
        },
        "id": "p5Kzom4aDa9F"
      }
    },
    {
      "cell_type": "code",
      "source": [
        "def chain_length_2(chain: Chain,\n",
        "                   x: ndarray) -> ndarray:\n",
        "    '''\n",
        "    Evaluates two functions in a row, in a \"Chain\".\n",
        "    '''\n",
        "    assert len(chain) == 2, \\\n",
        "    \"Length of input 'chain' should be 2\"\n",
        "\n",
        "    f1 = chain[0]\n",
        "    f2 = chain[1]\n",
        "\n",
        "    return f2(f1(x))"
      ],
      "execution_count": null,
      "outputs": [],
      "metadata": {
        "datalore": {
          "node_id": "ml6o35Lzo1rxOA1lW9kivQ",
          "type": "CODE",
          "hide_input_from_viewers": false,
          "hide_output_from_viewers": false,
          "report_properties": {
            "rowId": "KAZCSB4iLyxU33Tj3OYNSy"
          }
        },
        "id": "3FN4RoDkDa9F"
      }
    },
    {
      "cell_type": "markdown",
      "source": [
        "## Chain derivative"
      ],
      "metadata": {
        "datalore": {
          "node_id": "tYLjgq01bdbK2gc1TcNzWl",
          "type": "MD",
          "hide_input_from_viewers": false,
          "hide_output_from_viewers": false,
          "report_properties": {
            "rowId": "spGjR9bWZTm9JpQmroyOkk"
          }
        },
        "id": "JcSwziQdDa9G"
      }
    },
    {
      "cell_type": "code",
      "source": [
        "def square(x: ndarray) -> ndarray:\n",
        "    '''\n",
        "    Square each element in the input Tensor.\n",
        "    '''\n",
        "    return np.power(x, 2)\n",
        "\n",
        "def sigmoid(x: ndarray) -> ndarray:\n",
        "    '''\n",
        "    Apply the sigmoid function to each element in the input ndarray.\n",
        "    '''\n",
        "    return 1 / (1 + np.exp(-x))"
      ],
      "execution_count": null,
      "outputs": [],
      "metadata": {
        "datalore": {
          "node_id": "sIxX4Vru4Qo5Z1tNS8Oomu",
          "type": "CODE",
          "hide_input_from_viewers": false,
          "hide_output_from_viewers": false,
          "report_properties": {
            "rowId": "aTRDSdUYBfZysddv8INIU0"
          }
        },
        "id": "0qefbiQrDa9G"
      }
    },
    {
      "cell_type": "code",
      "source": [
        "def chain_deriv_2(chain: Chain,\n",
        "                  input_range: ndarray) -> ndarray:\n",
        "    '''\n",
        "    Uses the chain rule to compute the derivative of two nested functions:\n",
        "    (f2(f1(x))' = f2'(f1(x)) * f1'(x)\n",
        "    '''\n",
        "\n",
        "    assert len(chain) == 2, \\\n",
        "    \"This function requires 'Chain' objects of length 2\"\n",
        "\n",
        "    assert input_range.ndim == 1, \\\n",
        "    \"Function requires a 1 dimensional ndarray as input_range\"\n",
        "\n",
        "    f1 = chain[0]\n",
        "    f2 = chain[1]\n",
        "\n",
        "    # df1/dx\n",
        "    f1_of_x = f1(input_range)\n",
        "\n",
        "    # df1/du\n",
        "    df1dx = deriv(f1, input_range)\n",
        "\n",
        "    # df2/du(f1(x))\n",
        "    df2du = deriv(f2, f1(input_range))\n",
        "\n",
        "    # Multiplying these quantities together at each point\n",
        "    return df1dx * df2du"
      ],
      "execution_count": null,
      "outputs": [],
      "metadata": {
        "datalore": {
          "node_id": "pwHXVmGnGaE2rsgHaDqsvJ",
          "type": "CODE",
          "hide_input_from_viewers": false,
          "hide_output_from_viewers": false,
          "report_properties": {
            "rowId": "1WRAmC6noL9bnwgthxUnEb"
          }
        },
        "id": "NF_ugHYADa9G"
      }
    },
    {
      "cell_type": "code",
      "source": [
        "def plot_chain(ax,\n",
        "               chain: Chain,\n",
        "               input_range: ndarray) -> None:\n",
        "    '''\n",
        "    Plots a chain function - a function made up of\n",
        "    multiple consecutive ndarray -> ndarray mappings -\n",
        "    Across the input_range\n",
        "\n",
        "    ax: matplotlib Subplot for plotting\n",
        "    '''\n",
        "\n",
        "    assert input_range.ndim == 1, \\\n",
        "    \"Function requires a 1 dimensional ndarray as input_range\"\n",
        "\n",
        "    output_range = chain_length_2(chain, input_range)\n",
        "    ax.plot(input_range, output_range)"
      ],
      "execution_count": null,
      "outputs": [],
      "metadata": {
        "datalore": {
          "node_id": "Jy4dgnYrt7NfItBN16hXHP",
          "type": "CODE",
          "hide_input_from_viewers": false,
          "hide_output_from_viewers": false,
          "report_properties": {
            "rowId": "nGHHOtUQFLYDWwJkm35zYe"
          }
        },
        "id": "C1lZzW6CDa9G"
      }
    },
    {
      "cell_type": "code",
      "source": [
        "def plot_chain_deriv(ax,\n",
        "                     chain: Chain,\n",
        "                     input_range: ndarray) -> ndarray:\n",
        "    '''\n",
        "    Uses the chain rule to plot the derivative of a function consisting of two nested functions.\n",
        "\n",
        "    ax: matplotlib Subplot for plotting\n",
        "    '''\n",
        "    output_range = chain_deriv_2(chain, input_range)\n",
        "    ax.plot(input_range, output_range)"
      ],
      "execution_count": null,
      "outputs": [],
      "metadata": {
        "datalore": {
          "node_id": "6fQETV7bEDOUvP3U3xcSi6",
          "type": "CODE",
          "hide_input_from_viewers": false,
          "hide_output_from_viewers": false,
          "report_properties": {
            "rowId": "bgHfZILOwC7SqwSGMGPiNQ"
          }
        },
        "id": "UYNEZ9AiDa9G"
      }
    },
    {
      "cell_type": "code",
      "source": [
        "fig, ax = plt.subplots(1, 2, sharey=True, figsize=(16, 8))  # 2 Rows, 1 Col\n",
        "\n",
        "chain_1 = [square, sigmoid]\n",
        "chain_2 = [sigmoid, square]\n",
        "\n",
        "PLOT_RANGE = np.arange(-3, 3, 0.01)\n",
        "plot_chain(ax[0], chain_1, PLOT_RANGE)\n",
        "plot_chain_deriv(ax[0], chain_1, PLOT_RANGE)\n",
        "\n",
        "ax[0].legend([\"$f(x)$\", \"$\\\\frac{df}{dx}$\"])\n",
        "ax[0].set_title(\"Function and derivative for\\n$f(x) = sigmoid(square(x))$\")\n",
        "\n",
        "plot_chain(ax[1], chain_2, PLOT_RANGE)\n",
        "plot_chain_deriv(ax[1], chain_2, PLOT_RANGE)\n",
        "ax[1].legend([\"$f(x)$\", \"$\\\\frac{df}{dx}$\"])\n",
        "ax[1].set_title(\"Function and derivative for\\n$f(x) = square(sigmoid(x))$\");\n",
        "\n",
        "# plt.savefig(IMG_FOLDER_PATH + \"08_plot_chain_rule_1.png\");\n",
        "# plt.savefig(PDF_IMG_FOLDER_PATH + \"08_plot_chain_rule_1.pdf\");"
      ],
      "execution_count": null,
      "outputs": [
        {
          "output_type": "display_data",
          "data": {
            "text/plain": [
              "<Figure size 1600x800 with 2 Axes>"
            ],
            "image/png": "[encoded data removed]"
          },
          "metadata": {}
        }
      ],
      "metadata": {
        "datalore": {
          "node_id": "9fGsnRO6GTwCMdmCcdlsUO",
          "type": "CODE",
          "hide_input_from_viewers": false,
          "hide_output_from_viewers": false,
          "report_properties": {
            "rowId": "W8cT3EAkQAOHbPc9RqFfGV"
          }
        },
        "colab": {
          "base_uri": "https://localhost:8080/",
          "height": 658
        },
        "id": "_tqy_7pvDa9G",
        "outputId": "0398c436-5e1a-46c2-ec17-95c417450124"
      }
    },
    {
      "cell_type": "markdown",
      "source": [
        "# `Chain of length 3`"
      ],
      "metadata": {
        "datalore": {
          "node_id": "I21iXWACWPynU7zd4TOGmH",
          "type": "MD",
          "hide_input_from_viewers": false,
          "hide_output_from_viewers": false,
          "report_properties": {
            "rowId": "zRF7JtWT3eHrcckjjBBKMC"
          }
        },
        "id": "QV3qtAvjDa9G"
      }
    },
    {
      "cell_type": "code",
      "source": [
        "def chain_length_3(chain: Chain,\n",
        "                   x: ndarray) -> ndarray:\n",
        "    '''\n",
        "    Evaluates three functions in a row, in a \"Chain\".\n",
        "    '''\n",
        "    assert len(chain) == 3, \\\n",
        "    \"Length of input 'chain' should be 3\"\n",
        "\n",
        "    f1 = chain[0]\n",
        "    f2 = chain[1]\n",
        "    f3 = chain[2]\n",
        "\n",
        "    return f3(f2(f1(x)))"
      ],
      "execution_count": null,
      "outputs": [],
      "metadata": {
        "datalore": {
          "node_id": "NRVUC2N1MKIXT7wfaW8FmL",
          "type": "CODE",
          "hide_input_from_viewers": false,
          "hide_output_from_viewers": false,
          "report_properties": {
            "rowId": "0ihgpBJuy32lba73TbSsnq"
          }
        },
        "id": "bgFRxQ1SDa9G"
      }
    },
    {
      "cell_type": "code",
      "source": [
        "def chain_deriv_3(chain: Chain,\n",
        "                  input_range: ndarray) -> ndarray:\n",
        "    '''\n",
        "    Uses the chain rule to compute the derivative of three nested functions:\n",
        "    (f3(f2(f1)))' = f3'(f2(f1(x))) * f2'(f1(x)) * f1'(x)\n",
        "    '''\n",
        "\n",
        "    assert len(chain) == 3, \\\n",
        "    \"This function requires 'Chain' objects to have length 3\"\n",
        "\n",
        "    f1 = chain[0]\n",
        "    f2 = chain[1]\n",
        "    f3 = chain[2]\n",
        "\n",
        "    # f1(x)\n",
        "    f1_of_x = f1(input_range)\n",
        "\n",
        "    # f2(f1(x))\n",
        "    f2_of_x = f2(f1_of_x)\n",
        "\n",
        "    # df3du\n",
        "    df3du = deriv(f3, f2_of_x)\n",
        "\n",
        "    # df2du\n",
        "    df2du = deriv(f2, f1_of_x)\n",
        "\n",
        "    # df1dx\n",
        "    df1dx = deriv(f1, input_range)\n",
        "\n",
        "    # Multiplying these quantities together at each point\n",
        "    return df1dx * df2du * df3du"
      ],
      "execution_count": null,
      "outputs": [],
      "metadata": {
        "datalore": {
          "node_id": "CdApjAEVSS9qBoyCHgDkUl",
          "type": "CODE",
          "hide_input_from_viewers": false,
          "hide_output_from_viewers": false,
          "report_properties": {
            "rowId": "cEIaUnKePNqJthAizjONye"
          }
        },
        "id": "2WJ7NHb2Da9G"
      }
    },
    {
      "cell_type": "code",
      "source": [
        "def square(x: ndarray) -> ndarray:\n",
        "    '''\n",
        "    Square each element in the input ndarray.\n",
        "    '''\n",
        "    return np.power(x, 2)\n",
        "\n",
        "def leaky_relu(x: ndarray) -> ndarray:\n",
        "    '''\n",
        "    Apply \"Leaky ReLU\" function to each element in ndarray\n",
        "    '''\n",
        "    return np.maximum(0.2 * x, x)\n",
        "\n",
        "def sigmoid(x: ndarray) -> ndarray:\n",
        "    '''\n",
        "    Apply \"sigmoid\" function to each element in ndarray\n",
        "    '''\n",
        "    return 1 / (1 + np.exp(-x))"
      ],
      "execution_count": null,
      "outputs": [],
      "metadata": {
        "datalore": {
          "node_id": "aVYdYCZQpTjgGI3BNUoRv9",
          "type": "CODE",
          "hide_input_from_viewers": false,
          "hide_output_from_viewers": false,
          "report_properties": {
            "rowId": "CxWimm1ZLt6zZRIbYvk39j"
          }
        },
        "id": "7dwMmnvCDa9G"
      }
    },
    {
      "cell_type": "code",
      "source": [
        "def plot_chain(ax,\n",
        "               chain: Chain,\n",
        "               input_range: ndarray,\n",
        "               length: int=2) -> None:\n",
        "    '''\n",
        "    Plots a chain function - a function made up of\n",
        "    multiple consecutive ndarray -> ndarray mappings - across one range\n",
        "\n",
        "    ax: matplotlib Subplot for plotting\n",
        "    '''\n",
        "\n",
        "    assert input_range.ndim == 1, \\\n",
        "    \"Function requires a 1 dimensional ndarray as input_range\"\n",
        "    if length == 2:\n",
        "        output_range = chain_length_2(chain, input_range)\n",
        "    elif length == 3:\n",
        "        output_range = chain_length_3(chain, input_range)\n",
        "    ax.plot(input_range, output_range)"
      ],
      "execution_count": null,
      "outputs": [],
      "metadata": {
        "datalore": {
          "node_id": "PznoOnmeL7fJJkXgNNCt4p",
          "type": "CODE",
          "hide_input_from_viewers": false,
          "hide_output_from_viewers": false,
          "report_properties": {
            "rowId": "dbglUvOal416S70UPBubID"
          }
        },
        "id": "JdB43jH4Da9G"
      }
    },
    {
      "cell_type": "code",
      "source": [
        "def plot_chain_deriv(ax,\n",
        "                     chain: Chain,\n",
        "                     input_range: ndarray,\n",
        "                     length: int=2) -> ndarray:\n",
        "    '''\n",
        "    Uses the chain rule to plot the derivative of two nested functions.\n",
        "\n",
        "    ax: matplotlib Subplot for plotting\n",
        "    '''\n",
        "\n",
        "    if length == 2:\n",
        "        output_range = chain_deriv_2(chain, input_range)\n",
        "    elif length == 3:\n",
        "        output_range = chain_deriv_3(chain, input_range)\n",
        "    ax.plot(input_range, output_range)"
      ],
      "execution_count": null,
      "outputs": [],
      "metadata": {
        "datalore": {
          "node_id": "bTuyf8BMhIR29wRtgO3PUu",
          "type": "CODE",
          "hide_input_from_viewers": false,
          "hide_output_from_viewers": false,
          "report_properties": {
            "rowId": "spgajGThifzNU84GIjPo4S"
          }
        },
        "id": "hD3wlWMCDa9H"
      }
    },
    {
      "cell_type": "code",
      "source": [
        "fig, ax = plt.subplots(1, 2, sharey=True, figsize=(16, 8))  # 2 Rows, 1 Col\n",
        "\n",
        "chain_1 = [leaky_relu, square, sigmoid]\n",
        "chain_2 = [leaky_relu, sigmoid, square]\n",
        "\n",
        "PLOT_RANGE = np.arange(-3, 3, 0.01)\n",
        "plot_chain(ax[0], chain_1, PLOT_RANGE, length=3)\n",
        "plot_chain_deriv(ax[0], chain_1, PLOT_RANGE, length=3)\n",
        "\n",
        "ax[0].legend([\"$f(x)$\", \"$\\\\frac{df}{dx}$\"])\n",
        "ax[0].set_title(\"Function and derivative for\\n$f(x) = sigmoid(square(leakyRrelu(x)))$\")\n",
        "\n",
        "plot_chain(ax[1], chain_2, PLOT_RANGE, length=3)\n",
        "plot_chain_deriv(ax[1], chain_2, PLOT_RANGE, length=3)\n",
        "ax[1].legend([\"$f(x)$\", \"$\\\\frac{df}{dx}$\"])\n",
        "ax[1].set_title(\"Function and derivative for\\n$f(x) = square(sigmoid(leakyRelu(x)))$\");\n",
        "\n",
        "# plt.savefig(IMG_FOLDER_PATH + \"09_plot_chain_rule_2.png\");\n",
        "# plt.savefig(PDF_IMG_FOLDER_PATH + \"09_plot_chain_rule_2.pdf\");"
      ],
      "execution_count": null,
      "outputs": [
        {
          "output_type": "display_data",
          "data": {
            "text/plain": [
              "<Figure size 1600x800 with 2 Axes>"
            ],
            "image/png": "[encoded data removed]"
          },
          "metadata": {}
        }
      ],
      "metadata": {
        "datalore": {
          "node_id": "shkk6Z4nmWjSJ0uKPKj8k3",
          "type": "CODE",
          "hide_input_from_viewers": false,
          "hide_output_from_viewers": false,
          "report_properties": {
            "rowId": "7XFPP5Y2DLSpFkdCCPN30w"
          }
        },
        "colab": {
          "base_uri": "https://localhost:8080/",
          "height": 664
        },
        "id": "fyCxcvWHDa9H",
        "outputId": "c44ad5ab-590c-4ac8-b597-8ee830fdfec2"
      }
    },
    {
      "cell_type": "markdown",
      "source": [
        "# Function with multiple inputs example"
      ],
      "metadata": {
        "datalore": {
          "node_id": "3TFbJOruRSk2YrVVyDhr2a",
          "type": "MD",
          "hide_input_from_viewers": false,
          "hide_output_from_viewers": false,
          "report_properties": {
            "rowId": "QGfNg1ZPGmybuKZwyZh6pS"
          }
        },
        "id": "PO9RvdSMDa9H"
      }
    },
    {
      "cell_type": "code",
      "source": [
        "def multiple_inputs_add(x: ndarray,\n",
        "                        y: ndarray,\n",
        "                        sigma: Array_Function) -> float:\n",
        "    '''\n",
        "    Function with multiple inputs and addition, forward pass\n",
        "    '''\n",
        "    assert x.shape == y.shape\n",
        "\n",
        "    a = x + y\n",
        "    return sigma(a)"
      ],
      "execution_count": null,
      "outputs": [],
      "metadata": {
        "datalore": {
          "node_id": "xbaFy0vuMLnJL0GVFg4nTd",
          "type": "CODE",
          "hide_input_from_viewers": false,
          "hide_output_from_viewers": false,
          "report_properties": {
            "rowId": "Q8IYYi8muIfqVPByQOrkJv"
          }
        },
        "id": "IprE4f_LDa9H"
      }
    },
    {
      "cell_type": "code",
      "source": [
        "def multiple_inputs_add_backward(x: ndarray,\n",
        "                                 y: ndarray,\n",
        "                                 sigma: Array_Function) -> float:\n",
        "    '''\n",
        "    Computes the derivative of this simple function with respect to\n",
        "    both inputs\n",
        "    '''\n",
        "    # Compute \"forward pass\"\n",
        "    a = x + y\n",
        "\n",
        "    # Compute derivatives\n",
        "    dsda = deriv(sigma, a)\n",
        "\n",
        "    dadx, dady = 1, 1\n",
        "\n",
        "    return dsda * dadx, dsda * dady"
      ],
      "execution_count": null,
      "outputs": [],
      "metadata": {
        "datalore": {
          "node_id": "8cE3c2W827log3xJTSvpRw",
          "type": "CODE",
          "hide_input_from_viewers": false,
          "hide_output_from_viewers": false,
          "report_properties": {
            "rowId": "vO3qerH558mGcGBnB9F6Kt"
          }
        },
        "id": "uLQkfwUzDa9H"
      }
    },
    {
      "cell_type": "markdown",
      "source": [
        "# Function with matrix multiplication"
      ],
      "metadata": {
        "datalore": {
          "node_id": "tNOwVqfcvS5bDnQ6gGQ6pp",
          "type": "MD",
          "hide_input_from_viewers": false,
          "hide_output_from_viewers": false,
          "report_properties": {
            "rowId": "nWjGaQNMHQ7bIkAyCiizDk"
          }
        },
        "id": "--qnWMQxDa9H"
      }
    },
    {
      "cell_type": "code",
      "source": [
        "def matmul_forward(X: ndarray,\n",
        "                   W: ndarray) -> ndarray:\n",
        "    '''\n",
        "    Computes the forward pass of a matrix multiplication\n",
        "    '''\n",
        "\n",
        "    assert X.shape[1] == W.shape[0], \\\n",
        "    '''\n",
        "    For matrix multiplication, the number of columns in the first array should match the\n",
        "    number of rows in the second, instead the number of columns in the first array is {0}\n",
        "    and the number of rows in the second array is {1}\n",
        "    '''.format(X.shape[1], W.shape[0])\n",
        "\n",
        "    # matrix multiplication\n",
        "    N = np.dot(X, W)\n",
        "\n",
        "    return N"
      ],
      "execution_count": null,
      "outputs": [],
      "metadata": {
        "datalore": {
          "node_id": "D33XqEhMw7AMzroYOEQIUw",
          "type": "CODE",
          "hide_input_from_viewers": false,
          "hide_output_from_viewers": false,
          "report_properties": {
            "rowId": "HMTpnz9ZUmiyij6ZVWZyoM"
          }
        },
        "id": "9VIuazy6Da9H"
      }
    },
    {
      "cell_type": "code",
      "source": [
        "def matmul_backward_first(X: ndarray,\n",
        "                          W: ndarray) -> ndarray:\n",
        "    '''\n",
        "    Computes the backward pass of a matrix multiplication with respect to the first argument.\n",
        "    '''\n",
        "\n",
        "    # backward pass\n",
        "    dNdX = np.transpose(W, (1, 0))\n",
        "\n",
        "    return dNdX"
      ],
      "execution_count": null,
      "outputs": [],
      "metadata": {
        "datalore": {
          "node_id": "fqcY1kABlhzvmZnL5N0ENf",
          "type": "CODE",
          "hide_input_from_viewers": false,
          "hide_output_from_viewers": false,
          "report_properties": {
            "rowId": "S437niXKzWErhGUQa5sS53"
          }
        },
        "id": "nc58f87SDa9H"
      }
    },
    {
      "cell_type": "code",
      "source": [
        "np.random.seed(190203)\n",
        "\n",
        "X = np.random.randn(1,3)\n",
        "W = np.random.randn(3,1)\n",
        "\n",
        "print(X)\n",
        "matmul_backward_first(X, W)"
      ],
      "execution_count": null,
      "outputs": [
        {
          "output_type": "stream",
          "name": "stdout",
          "text": [
            "[[ 0.4723  0.6151 -1.7262]]\n"
          ]
        },
        {
          "output_type": "execute_result",
          "data": {
            "text/plain": [
              "array([[ 0.9282, -0.6075, -1.2214]])"
            ]
          },
          "metadata": {},
          "execution_count": 28
        }
      ],
      "metadata": {
        "datalore": {
          "node_id": "wx17a9C92aO7IOuty8F1br",
          "type": "CODE",
          "hide_input_from_viewers": false,
          "hide_output_from_viewers": false,
          "report_properties": {
            "rowId": "j8FtIcHKY0HEYWwH7pHBaQ"
          }
        },
        "colab": {
          "base_uri": "https://localhost:8080/"
        },
        "id": "FSl3xrs-Da9H",
        "outputId": "b8bad6e9-8625-4755-ba19-4cf51771d219"
      }
    },
    {
      "cell_type": "code",
      "source": [
        "def matrix_forward_extra(X: ndarray,\n",
        "                         W: ndarray,\n",
        "                         sigma: Array_Function) -> ndarray:\n",
        "    '''\n",
        "    Computes the forward pass of a function involving matrix multiplication, one extra function\n",
        "    '''\n",
        "    assert X.shape[1] == W.shape[0]\n",
        "\n",
        "    # matrix multiplication\n",
        "    N = np.dot(X, W)\n",
        "\n",
        "    # feeding the output of the matrix multiplication through sigma\n",
        "    S = sigma(N)\n",
        "\n",
        "    return S"
      ],
      "execution_count": null,
      "outputs": [],
      "metadata": {
        "datalore": {
          "node_id": "9VfzuzEgKfqATdXyaTKUxd",
          "type": "CODE",
          "hide_input_from_viewers": false,
          "hide_output_from_viewers": false,
          "report_properties": {
            "rowId": "lOrS476N9JBMS3ADFnKDQH"
          }
        },
        "id": "GMnwkicFDa9H"
      }
    },
    {
      "cell_type": "markdown",
      "source": [
        "# Derivative of a function with matrix multiplication"
      ],
      "metadata": {
        "datalore": {
          "node_id": "k7ccqfvnmsoZaabUiKTHWv",
          "type": "MD",
          "hide_input_from_viewers": false,
          "hide_output_from_viewers": false,
          "report_properties": {
            "rowId": "mjuLnotAgkswL04a53yBYE"
          }
        },
        "id": "9nw_EsegDa9H"
      }
    },
    {
      "cell_type": "markdown",
      "source": [
        "If:\n",
        "\n",
        "* $X$ is $m x n$\n",
        "* $W$ is $n x p$\n",
        "\n",
        "Then $X * W$ will be $m x p$:\n",
        "\n",
        "If the derivative of a loss with respect to each output $N$ is $m x p$, then\n",
        "\n",
        "* $\\frac{\\partial N}{\\partial X} = N * W^T$ (`np.dot((m,p), (p,n)) = m x n`\n",
        "* $\\frac{\\partial N}{\\partial W} = X^T * N$ (`np.dot((n,m), (m,p)) = n x p`\n",
        "\n",
        "In particular, the matrix multiplication on the backward pass must be done in this order."
      ],
      "metadata": {
        "datalore": {
          "node_id": "BOJnqhVgUysEcFwC2ANGbg",
          "type": "MD",
          "hide_input_from_viewers": false,
          "hide_output_from_viewers": false,
          "report_properties": {
            "rowId": "6MffgEzGbVUSEm4Ff1YEZH"
          }
        },
        "id": "yyoY6q25Da9H"
      }
    },
    {
      "cell_type": "code",
      "source": [
        "def matrix_function_backward_1(X: ndarray,\n",
        "                               W: ndarray,\n",
        "                               sigma: Array_Function) -> ndarray:\n",
        "    '''\n",
        "    Computes the derivative of our matrix function with respect to\n",
        "    the first element.\n",
        "    '''\n",
        "    assert X.shape[1] == W.shape[0]\n",
        "\n",
        "    # matrix multiplication\n",
        "    N = np.dot(X, W)\n",
        "\n",
        "    # feeding the output of the matrix multiplication through sigma\n",
        "    S = sigma(N)\n",
        "\n",
        "    # backward calculation\n",
        "    dSdN = deriv(sigma, N)\n",
        "\n",
        "    # dNdX\n",
        "    dNdX = np.transpose(W, (1, 0))\n",
        "\n",
        "    # multiply them together; since dNdX is 1x1 here, order doesn't matter\n",
        "    return np.dot(dSdN, dNdX)"
      ],
      "execution_count": null,
      "outputs": [],
      "metadata": {
        "datalore": {
          "node_id": "Z35PVxbjO9tgm2vU57nIFw",
          "type": "CODE",
          "hide_input_from_viewers": false,
          "hide_output_from_viewers": false,
          "report_properties": {
            "rowId": "t1lZX0BX91oHNalGQ3vmAI"
          }
        },
        "id": "6LzGoiLyDa9I"
      }
    },
    {
      "cell_type": "code",
      "source": [
        "print(matrix_function_backward_1(X, W, sigmoid))"
      ],
      "execution_count": null,
      "outputs": [
        {
          "output_type": "stream",
          "name": "stdout",
          "text": [
            "[[ 0.0852 -0.0557 -0.1121]]\n"
          ]
        }
      ],
      "metadata": {
        "datalore": {
          "node_id": "K93YN9qpoTm4KDwhi1biWB",
          "type": "CODE",
          "hide_input_from_viewers": false,
          "hide_output_from_viewers": false,
          "report_properties": {
            "rowId": "tQ2lLzgNilq85kfJKIntqv"
          }
        },
        "colab": {
          "base_uri": "https://localhost:8080/"
        },
        "id": "8mJeYfnMDa9I",
        "outputId": "4899e8dc-0381-4774-e437-e44f7d0349b0"
      }
    },
    {
      "cell_type": "code",
      "source": [
        "def forward_test(ind1, ind2, inc):\n",
        "\n",
        "    X1 = X.copy()\n",
        "    X1[ind1, ind2] = X[ind1, ind2] + inc\n",
        "\n",
        "    return matrix_forward_extra(X1, W, sigmoid)"
      ],
      "execution_count": null,
      "outputs": [],
      "metadata": {
        "datalore": {
          "node_id": "IpLiItkcx3VOlsPLwXA3UK",
          "type": "CODE",
          "hide_input_from_viewers": false,
          "hide_output_from_viewers": false,
          "report_properties": {
            "rowId": "cmSZGV36Y2MhZtZ0RotnzY"
          }
        },
        "id": "exaW3A4dDa9I"
      }
    },
    {
      "cell_type": "code",
      "source": [
        "(np.round(forward_test(0, 2, 0.01) - forward_test(0, 2, 0), 4)) / 0.01"
      ],
      "execution_count": null,
      "outputs": [
        {
          "output_type": "execute_result",
          "data": {
            "text/plain": [
              "array([[-0.11]])"
            ]
          },
          "metadata": {},
          "execution_count": 33
        }
      ],
      "metadata": {
        "datalore": {
          "node_id": "uF3PQYLCrWWvIeVvnT931o",
          "type": "CODE",
          "hide_input_from_viewers": false,
          "hide_output_from_viewers": false,
          "report_properties": {
            "rowId": "QtRqkFoQirrloEP5y4aQcR"
          }
        },
        "colab": {
          "base_uri": "https://localhost:8080/"
        },
        "id": "se5zmCTkDa9I",
        "outputId": "8d06aa3b-9c05-43ef-edbc-4dd4bfee701a"
      }
    },
    {
      "cell_type": "code",
      "source": [
        "np.round(matrix_function_backward_1(X, W, sigmoid)[0, 2], 2)"
      ],
      "execution_count": null,
      "outputs": [
        {
          "output_type": "execute_result",
          "data": {
            "text/plain": [
              "-0.11"
            ]
          },
          "metadata": {},
          "execution_count": 34
        }
      ],
      "metadata": {
        "datalore": {
          "node_id": "BXcI6dkxs1aPEz1P0SFTZ2",
          "type": "CODE",
          "hide_input_from_viewers": false,
          "hide_output_from_viewers": false,
          "report_properties": {
            "rowId": "FE5zdMv3Pb99N4r2tuJQf4"
          }
        },
        "colab": {
          "base_uri": "https://localhost:8080/"
        },
        "id": "HMnDjYqdDa9I",
        "outputId": "0f5e4b28-9f68-495a-e6e3-0a85ef5d58e6"
      }
    },
    {
      "cell_type": "markdown",
      "source": [
        "Same! Gradients check."
      ],
      "metadata": {
        "datalore": {
          "node_id": "xH2enamVsmXs2svAVAbZWf",
          "type": "MD",
          "hide_input_from_viewers": false,
          "hide_output_from_viewers": false,
          "report_properties": {
            "rowId": "RANfdPKqPBCaBDDEEKCUwo"
          }
        },
        "id": "7rTo556dDa9I"
      }
    },
    {
      "cell_type": "markdown",
      "source": [
        "# Matrix function with sum"
      ],
      "metadata": {
        "datalore": {
          "node_id": "gxV6uGnx2eA9dGpKiEHYr8",
          "type": "MD",
          "hide_input_from_viewers": false,
          "hide_output_from_viewers": false,
          "report_properties": {
            "rowId": "HlI25iyLvIeegGWR3xkrtK"
          }
        },
        "id": "LHCAGYc-Da9I"
      }
    },
    {
      "cell_type": "code",
      "source": [
        "def matrix_function_forward_sum(X: ndarray,\n",
        "                                W: ndarray,\n",
        "                                sigma: Array_Function) -> float:\n",
        "    '''\n",
        "    Computing the result of the forward pass of this function with\n",
        "    input ndarrays X and W and function sigma.\n",
        "    '''\n",
        "    assert X.shape[1] == W.shape[0]\n",
        "\n",
        "    # matrix multiplication\n",
        "    N = np.dot(X, W)\n",
        "\n",
        "    # feeding the output of the matrix multiplication through sigma\n",
        "    S = sigma(N)\n",
        "\n",
        "    # sum all the elements\n",
        "    L = np.sum(S)\n",
        "\n",
        "    return L"
      ],
      "execution_count": null,
      "outputs": [],
      "metadata": {
        "datalore": {
          "node_id": "XF6FO2VVDZDaIsXd9HvVA6",
          "type": "CODE",
          "hide_input_from_viewers": false,
          "hide_output_from_viewers": false,
          "report_properties": {
            "rowId": "KwOUK7WmLuB3nNZRu5hTUI"
          }
        },
        "id": "2tln7fF0Da9J"
      }
    },
    {
      "cell_type": "code",
      "source": [
        "def matrix_function_backward_1(X: ndarray,\n",
        "                               W: ndarray,\n",
        "                               sigma: Array_Function) -> ndarray:\n",
        "    '''\n",
        "    Computes the derivative of this function with respect to\n",
        "    the first element.\n",
        "    '''\n",
        "    assert X.shape[1] == W.shape[0]\n",
        "\n",
        "    # matrix multiplication\n",
        "    N = np.dot(X, W)\n",
        "\n",
        "    # feeding the output of the matrix multiplication through sigma\n",
        "    S = sigma(N)\n",
        "\n",
        "    # backward calculation\n",
        "    dSdN = deriv(sigma, N)\n",
        "\n",
        "    # dNdX\n",
        "    dNdX = np.transpose(W.transpose(0, 1))\n",
        "\n",
        "    # multiply them together; since dNdX is 1x1 here, order doesn't matter\n",
        "    return np.dot(dSdN, dNdX)"
      ],
      "execution_count": null,
      "outputs": [],
      "metadata": {
        "datalore": {
          "node_id": "nkKZkDTZuOqBdG0vs0VmwJ",
          "type": "CODE",
          "hide_input_from_viewers": false,
          "hide_output_from_viewers": false,
          "report_properties": {
            "rowId": "TXEKtIVfJ1JX1ru6c4IDlU"
          }
        },
        "id": "tuhLPy7DDa9J"
      }
    },
    {
      "cell_type": "markdown",
      "source": [
        "# Matrix function with two 2D matrices"
      ],
      "metadata": {
        "datalore": {
          "node_id": "coG6BYWYNmGxC4h0k92l4y",
          "type": "MD",
          "hide_input_from_viewers": false,
          "hide_output_from_viewers": false,
          "report_properties": {
            "rowId": "W7HobCovnXb7w9Txh8CXlz"
          }
        },
        "id": "Ozz7CbHPDa9J"
      }
    },
    {
      "cell_type": "code",
      "source": [
        "def matrix_function_forward_sum(X: ndarray,\n",
        "                                W: ndarray,\n",
        "                                sigma: Array_Function) -> float:\n",
        "    '''\n",
        "    Computing the result of the forward pass of this function with\n",
        "    input ndarrays X and W and function sigma.\n",
        "    '''\n",
        "    assert X.shape[1] == W.shape[0]\n",
        "\n",
        "    # matrix multiplication\n",
        "    N = np.dot(X, W)\n",
        "\n",
        "    # feeding the output of the matrix multiplication through sigma\n",
        "    S = sigma(N)\n",
        "\n",
        "    # sum all the elements\n",
        "    L = np.sum(S)\n",
        "\n",
        "    return L"
      ],
      "execution_count": null,
      "outputs": [],
      "metadata": {
        "datalore": {
          "node_id": "G8IzztziLb4cVAXHfM8MSd",
          "type": "CODE",
          "hide_input_from_viewers": false,
          "hide_output_from_viewers": false,
          "report_properties": {
            "rowId": "XX4bSogbCAlXCnZgLMcj85"
          }
        },
        "id": "4OMtHCTpDa9J"
      }
    },
    {
      "cell_type": "code",
      "source": [
        "def matrix_function_backward_sum_1(X: ndarray,\n",
        "                                   W: ndarray,\n",
        "                                   sigma: Array_Function) -> ndarray:\n",
        "    '''\n",
        "    Compute derivative of matrix function with a sum with respect to the\n",
        "    first matrix input\n",
        "    '''\n",
        "    assert X.shape[1] == W.shape[0]\n",
        "\n",
        "    # matrix multiplication\n",
        "    N = np.dot(X, W)\n",
        "\n",
        "    # feeding the output of the matrix multiplication through sigma\n",
        "    S = sigma(N)\n",
        "\n",
        "    # sum all the elements\n",
        "    L = np.sum(S)\n",
        "\n",
        "    # note: I'll refer to the derivatives by their quantities here,\n",
        "    # unlike the math where we referred to their function names\n",
        "\n",
        "    # dLdS - just 1s\n",
        "    dLdS = np.ones_like(S)\n",
        "\n",
        "    # dSdN\n",
        "    dSdN = deriv(sigma, N)\n",
        "\n",
        "    # dLdN\n",
        "    dLdN = dLdS * dSdN\n",
        "\n",
        "    # dNdX\n",
        "    dNdX = np.transpose(W, (1, 0))\n",
        "\n",
        "    # dLdX\n",
        "    dLdX = np.dot(dSdN, dNdX)\n",
        "\n",
        "    return dLdX"
      ],
      "execution_count": null,
      "outputs": [],
      "metadata": {
        "datalore": {
          "node_id": "Up9IPvM7jb5viVpw4uhrGc",
          "type": "CODE",
          "hide_input_from_viewers": false,
          "hide_output_from_viewers": false,
          "report_properties": {
            "rowId": "CWCbYqdefYgrr28TGzuHih"
          }
        },
        "id": "ozb0pHPuDa9J"
      }
    },
    {
      "cell_type": "markdown",
      "source": [
        "#### Testing"
      ],
      "metadata": {
        "datalore": {
          "node_id": "VzGjmKUARwiS6m2cNTMbx8",
          "type": "MD",
          "hide_input_from_viewers": false,
          "hide_output_from_viewers": false,
          "report_properties": {
            "rowId": "ZxZOILgjq5AuRwEExyVByh"
          }
        },
        "id": "hYG6fwYnDa9J"
      }
    },
    {
      "cell_type": "code",
      "source": [
        "np.random.seed(190204)\n",
        "X = np.random.randn(3, 3)\n",
        "W = np.random.randn(3, 2)\n",
        "\n",
        "print(\"X:\")\n",
        "print(X)\n",
        "\n",
        "print(\"L:\")\n",
        "print(round(matrix_function_forward_sum(X, W, sigmoid), 4))\n",
        "print()\n",
        "print(\"dLdX:\")\n",
        "print(matrix_function_backward_sum_1(X, W , sigmoid))"
      ],
      "execution_count": null,
      "outputs": [
        {
          "output_type": "stream",
          "name": "stdout",
          "text": [
            "X:\n",
            "[[-1.5775 -0.6664  0.6391]\n",
            " [-0.5615  0.7373 -1.4231]\n",
            " [-1.4435 -0.3913  0.1539]]\n",
            "L:\n",
            "2.3755\n",
            "\n",
            "dLdX:\n",
            "[[ 0.2489 -0.3748  0.0112]\n",
            " [ 0.126  -0.2781 -0.1395]\n",
            " [ 0.2299 -0.3662 -0.0225]]\n"
          ]
        }
      ],
      "metadata": {
        "datalore": {
          "node_id": "8euR79IIHBW14HkoXXRsJC",
          "type": "CODE",
          "hide_input_from_viewers": false,
          "hide_output_from_viewers": false,
          "report_properties": {
            "rowId": "yrr3cxkI3z4wX8UrnKaU1T"
          }
        },
        "colab": {
          "base_uri": "https://localhost:8080/"
        },
        "id": "GoTyogtTDa9J",
        "outputId": "ad549012-809d-496a-8336-885131d14cbc"
      }
    },
    {
      "cell_type": "code",
      "source": [
        "X1 = X.copy()\n",
        "X1[0, 0] += 0.001\n",
        "\n",
        "print(round(\n",
        "        (matrix_function_forward_sum(X1, W, sigmoid) - \\\n",
        "         matrix_function_forward_sum(X, W, sigmoid)) / 0.001, 4))"
      ],
      "execution_count": null,
      "outputs": [
        {
          "output_type": "stream",
          "name": "stdout",
          "text": [
            "0.2489\n"
          ]
        }
      ],
      "metadata": {
        "datalore": {
          "node_id": "LoQBC1yr3IfChFIPT3jJyt",
          "type": "CODE",
          "hide_input_from_viewers": false,
          "hide_output_from_viewers": false,
          "report_properties": {
            "rowId": "ihP0NQVhUtKdFyOvbzXefl"
          }
        },
        "colab": {
          "base_uri": "https://localhost:8080/"
        },
        "id": "zzj4jYbHDa9J",
        "outputId": "c596515c-5c9f-4de6-d054-9dabef7b3889"
      }
    },
    {
      "cell_type": "markdown",
      "source": [
        "Same again!"
      ],
      "metadata": {
        "datalore": {
          "node_id": "fJ2nZCMI0F13fcDav74Nid",
          "type": "MD",
          "hide_input_from_viewers": false,
          "hide_output_from_viewers": false,
          "report_properties": {
            "rowId": "2Aa2BBPl6UxFQWrMRWDYOR"
          }
        },
        "id": "_SgGPUHCDa9J"
      }
    },
    {
      "cell_type": "markdown",
      "source": [
        "### Plotting"
      ],
      "metadata": {
        "datalore": {
          "node_id": "NrSP3wJkaVubj4h36kxwGA",
          "type": "MD",
          "hide_input_from_viewers": false,
          "hide_output_from_viewers": false,
          "report_properties": {
            "rowId": "CFCnFe7Di3GRwbJDv6tDlo"
          }
        },
        "id": "Ds935n05Da9J"
      }
    },
    {
      "cell_type": "code",
      "source": [
        "def matrix_function_forward_sum(X: ndarray,\n",
        "                                W: ndarray,\n",
        "                                sigma: Array_Function,\n",
        "                                modify_x11: bool = False,\n",
        "                                x11: float = 0.5) -> float:\n",
        "    '''\n",
        "    Computing the result of the forward pass of this function with\n",
        "    input Tensors X and W and function sigma.\n",
        "    '''\n",
        "    assert X.shape[1] == W.shape[0]\n",
        "\n",
        "    if modify_x11:\n",
        "        X1 = X.copy()\n",
        "        X1[0][0] = x11\n",
        "\n",
        "    # matrix multiplication\n",
        "    N = np.dot(X1, W)\n",
        "\n",
        "    # feeding the output of the matrix multiplication through sigma\n",
        "    S = sigma(N)\n",
        "\n",
        "    # sum all the elements\n",
        "    L = np.sum(S)\n",
        "\n",
        "    return L"
      ],
      "execution_count": null,
      "outputs": [],
      "metadata": {
        "datalore": {
          "node_id": "JYSD7Tgk0aBoKJWCFj2fIo",
          "type": "CODE",
          "hide_input_from_viewers": false,
          "hide_output_from_viewers": false,
          "report_properties": {
            "rowId": "ppz8fvqYTQcfvRbDKnSuAS"
          }
        },
        "id": "d5VcpFfiDa9J"
      }
    },
    {
      "cell_type": "code",
      "source": [
        "print(\"X:\")\n",
        "print(X)"
      ],
      "execution_count": null,
      "outputs": [
        {
          "output_type": "stream",
          "name": "stdout",
          "text": [
            "X:\n",
            "[[-1.5775 -0.6664  0.6391]\n",
            " [-0.5615  0.7373 -1.4231]\n",
            " [-1.4435 -0.3913  0.1539]]\n"
          ]
        }
      ],
      "metadata": {
        "datalore": {
          "node_id": "A7dVsXNDt1UR8g56kd9zgI",
          "type": "CODE",
          "hide_input_from_viewers": false,
          "hide_output_from_viewers": false,
          "report_properties": {
            "rowId": "Mwm3AgfDLjgEB0INNPQwnx"
          }
        },
        "colab": {
          "base_uri": "https://localhost:8080/"
        },
        "id": "v7JsNI50Da9J",
        "outputId": "8e84a066-705f-48f5-a74a-5dfb44d2a68d"
      }
    },
    {
      "cell_type": "code",
      "source": [
        "x11s = np.arange(X[0][0] - 1, X[0][0] + 1, 0.01)\n",
        "Ls = [matrix_function_forward_sum(X, W, sigmoid,\n",
        "                                  modify_x11 = True,\n",
        "                                  x11=x11) for x11 in x11s]"
      ],
      "execution_count": null,
      "outputs": [],
      "metadata": {
        "datalore": {
          "node_id": "oGus4uUk5cTIG0VfcRGVZx",
          "type": "CODE",
          "hide_input_from_viewers": false,
          "hide_output_from_viewers": false,
          "report_properties": {
            "rowId": "OoYh1OVgP9WNqrQxMjiA96"
          }
        },
        "id": "WKcQprtNDa9J"
      }
    },
    {
      "cell_type": "code",
      "source": [
        "plt.plot(x11s, Ls);\n",
        "# plt.title(\"Value of $L$ as $x_{11}$ changes holding\\nother values of $X$ and $W$ constant\")\n",
        "plt.xlabel(\"$x_{11}$\")\n",
        "plt.ylabel(\"$L$\");\n",
        "# plt.savefig(IMG_FOLDER_PATH + \"18_x11_vs_L.png\");\n",
        "# plt.savefig(PDF_IMG_FOLDER_PATH + \"18_x11_vs_L.pdf\");"
      ],
      "execution_count": null,
      "outputs": [
        {
          "output_type": "display_data",
          "data": {
            "text/plain": [
              "<Figure size 640x480 with 1 Axes>"
            ],
            "image/png": "[encoded data removed]"
          },
          "metadata": {}
        }
      ],
      "metadata": {
        "datalore": {
          "node_id": "iVbiDav9Dlm3zBuSNEA2wj",
          "type": "CODE",
          "hide_input_from_viewers": false,
          "hide_output_from_viewers": false,
          "report_properties": {
            "rowId": "hW4vz4lMBpPPsmgjISVTY6"
          }
        },
        "colab": {
          "base_uri": "https://localhost:8080/",
          "height": 450
        },
        "id": "X3_Ab5yXDa9K",
        "outputId": "32c9d930-bb94-48d4-ecf4-4f7b3a15b1c2"
      }
    }
  ],
  "metadata": {
    "kernelspec": {
      "display_name": "Python",
      "language": "python",
      "name": "python"
    },
    "datalore": {
      "computation_mode": "JUPYTER",
      "package_manager": "pip",
      "base_environment": "default",
      "packages": [],
      "report_row_ids": [
        "RZNpWYpMmbrkkh9ajwtIir",
        "4dpggekSBLJ37HqfpVwNlD",
        "XTW1lswUv0ufz3HZ2kHLBg",
        "8e5I9UYFNwhxa8mgs3fYcs",
        "2ilqxsH3mP4RwudbKZJ0eZ",
        "Gp3KTeyRGGkgAMrsid4iRJ",
        "Vp9BbOsbT8WZAuMhUQ55s5",
        "kXf2QWbUY8TLOas8TSYTTi",
        "BBunbaIHJFbTpIK9lBbzLb",
        "YCFzO5SRBWy9ZukMAbfLM6",
        "Xr1LWqQNx2feivsx2L7VHs",
        "ZqtJYDyth1K0hIv9rVZk3u",
        "G23mDB4826nqZ0jhSeFBOG",
        "vuUMQ0NLrIpvjNlr8iXIa3",
        "UNYJeSoSZVLEPobgJxyXTg",
        "KAZCSB4iLyxU33Tj3OYNSy",
        "spGjR9bWZTm9JpQmroyOkk",
        "aTRDSdUYBfZysddv8INIU0",
        "1WRAmC6noL9bnwgthxUnEb",
        "nGHHOtUQFLYDWwJkm35zYe",
        "bgHfZILOwC7SqwSGMGPiNQ",
        "W8cT3EAkQAOHbPc9RqFfGV",
        "zRF7JtWT3eHrcckjjBBKMC",
        "0ihgpBJuy32lba73TbSsnq",
        "cEIaUnKePNqJthAizjONye",
        "CxWimm1ZLt6zZRIbYvk39j",
        "dbglUvOal416S70UPBubID",
        "spgajGThifzNU84GIjPo4S",
        "7XFPP5Y2DLSpFkdCCPN30w",
        "QGfNg1ZPGmybuKZwyZh6pS",
        "Q8IYYi8muIfqVPByQOrkJv",
        "vO3qerH558mGcGBnB9F6Kt",
        "nWjGaQNMHQ7bIkAyCiizDk",
        "HMTpnz9ZUmiyij6ZVWZyoM",
        "S437niXKzWErhGUQa5sS53",
        "j8FtIcHKY0HEYWwH7pHBaQ",
        "lOrS476N9JBMS3ADFnKDQH",
        "mjuLnotAgkswL04a53yBYE",
        "6MffgEzGbVUSEm4Ff1YEZH",
        "t1lZX0BX91oHNalGQ3vmAI",
        "tQ2lLzgNilq85kfJKIntqv",
        "cmSZGV36Y2MhZtZ0RotnzY",
        "QtRqkFoQirrloEP5y4aQcR",
        "FE5zdMv3Pb99N4r2tuJQf4",
        "RANfdPKqPBCaBDDEEKCUwo",
        "HlI25iyLvIeegGWR3xkrtK",
        "KwOUK7WmLuB3nNZRu5hTUI",
        "TXEKtIVfJ1JX1ru6c4IDlU",
        "W7HobCovnXb7w9Txh8CXlz",
        "XX4bSogbCAlXCnZgLMcj85",
        "CWCbYqdefYgrr28TGzuHih",
        "ZxZOILgjq5AuRwEExyVByh",
        "yrr3cxkI3z4wX8UrnKaU1T",
        "ihP0NQVhUtKdFyOvbzXefl",
        "2Aa2BBPl6UxFQWrMRWDYOR",
        "CFCnFe7Di3GRwbJDv6tDlo",
        "ppz8fvqYTQcfvRbDKnSuAS",
        "Mwm3AgfDLjgEB0INNPQwnx",
        "OoYh1OVgP9WNqrQxMjiA96",
        "hW4vz4lMBpPPsmgjISVTY6"
      ],
      "version": 3
    },
    "colab": {
      "provenance": [],
      "include_colab_link": true
    }
  },
  "nbformat": 4,
  "nbformat_minor": 0
}