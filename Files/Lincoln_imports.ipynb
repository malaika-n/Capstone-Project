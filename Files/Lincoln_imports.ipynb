{
  "cells": [
    {
      "cell_type": "markdown",
      "metadata": {
        "id": "view-in-github",
        "colab_type": "text"
      },
      "source": [
        "<a href=\"https://colab.research.google.com/github/malaika-n/Capstone-Project/blob/main/Lincoln_imports.ipynb\" target=\"_parent\"><img src=\"https://colab.research.google.com/assets/colab-badge.svg\" alt=\"Open In Colab\"/></a>"
      ]
    },
    {
      "cell_type": "markdown",
      "source": [
        "This notebook contains experiments for:\n",
        "\n",
        "* Loss functions\n",
        "* Learning rate decay\n",
        "* Weight initialization\n",
        "* Optimizers\n",
        "* Dropout"
      ],
      "metadata": {
        "datalore": {
          "node_id": "w7myAdqvdeePTLFm9ZvoDk",
          "type": "MD",
          "hide_input_from_viewers": false,
          "hide_output_from_viewers": false,
          "report_properties": {
            "rowId": "ZZF1NL0Q2THUOqpU7ALq9c"
          }
        },
        "id": "HZ-gzFDdF-kU"
      }
    },
    {
      "cell_type": "markdown",
      "source": [
        "# `lincoln` imports"
      ],
      "metadata": {
        "datalore": {
          "node_id": "COM86CoFdLSuseg5YKaNKp",
          "type": "MD",
          "hide_input_from_viewers": false,
          "hide_output_from_viewers": false,
          "report_properties": {
            "rowId": "uKQbp8YYvRg70E1zjuKBWr"
          }
        },
        "id": "cHDUvllHF-kU"
      }
    },
    {
      "cell_type": "code",
      "source": [
        "import numpy as np"
      ],
      "execution_count": null,
      "outputs": [],
      "metadata": {
        "datalore": {
          "node_id": "0OIvWnuXOU8vbdry35eGwx",
          "type": "CODE",
          "hide_input_from_viewers": false,
          "hide_output_from_viewers": false,
          "report_properties": {
            "rowId": "2ZZldSaQgvbvCxdc2ytEWm"
          }
        },
        "id": "jRl-f77iF-kV"
      }
    },
    {
      "cell_type": "code",
      "source": [
        "%load_ext autoreload\n",
        "%autoreload 2"
      ],
      "execution_count": null,
      "outputs": [],
      "metadata": {
        "datalore": {
          "node_id": "ZRWIGVIIUGIh8hqHzFQFu8",
          "type": "CODE",
          "hide_input_from_viewers": false,
          "hide_output_from_viewers": false,
          "report_properties": {
            "rowId": "zV75iGrJx6MzSXFzUmXRrf"
          }
        },
        "id": "ZSqLkPp9F-kV"
      }
    },
    {
      "cell_type": "code",
      "source": [
        "import lincoln\n",
        "from lincoln.layers import Dense\n",
        "from lincoln.losses import SoftmaxCrossEntropy, MeanSquaredError\n",
        "from lincoln.optimizers import Optimizer, SGD, SGDMomentum\n",
        "from lincoln.activations import Sigmoid, Tanh, Linear, ReLU\n",
        "from lincoln.network import NeuralNetwork\n",
        "from lincoln.train import Trainer\n",
        "from lincoln.utils import mnist\n",
        "from lincoln.utils.np_utils import softmax"
      ],
      "execution_count": null,
      "outputs": [
        {
          "output_type": "error",
          "ename": "ModuleNotFoundError",
          "evalue": "ignored",
          "traceback": [
            "\u001b[0;31m---------------------------------------------------------------------------\u001b[0m",
            "\u001b[0;31mModuleNotFoundError\u001b[0m                       Traceback (most recent call last)",
            "\u001b[0;32m<ipython-input-3-d9d13fe0ea56>\u001b[0m in \u001b[0;36m<cell line: 1>\u001b[0;34m()\u001b[0m\n\u001b[0;32m----> 1\u001b[0;31m \u001b[0;32mimport\u001b[0m \u001b[0mlincoln\u001b[0m\u001b[0;34m\u001b[0m\u001b[0;34m\u001b[0m\u001b[0m\n\u001b[0m\u001b[1;32m      2\u001b[0m \u001b[0;32mfrom\u001b[0m \u001b[0mlincoln\u001b[0m\u001b[0;34m.\u001b[0m\u001b[0mlayers\u001b[0m \u001b[0;32mimport\u001b[0m \u001b[0mDense\u001b[0m\u001b[0;34m\u001b[0m\u001b[0;34m\u001b[0m\u001b[0m\n\u001b[1;32m      3\u001b[0m \u001b[0;32mfrom\u001b[0m \u001b[0mlincoln\u001b[0m\u001b[0;34m.\u001b[0m\u001b[0mlosses\u001b[0m \u001b[0;32mimport\u001b[0m \u001b[0mSoftmaxCrossEntropy\u001b[0m\u001b[0;34m,\u001b[0m \u001b[0mMeanSquaredError\u001b[0m\u001b[0;34m\u001b[0m\u001b[0;34m\u001b[0m\u001b[0m\n\u001b[1;32m      4\u001b[0m \u001b[0;32mfrom\u001b[0m \u001b[0mlincoln\u001b[0m\u001b[0;34m.\u001b[0m\u001b[0moptimizers\u001b[0m \u001b[0;32mimport\u001b[0m \u001b[0mOptimizer\u001b[0m\u001b[0;34m,\u001b[0m \u001b[0mSGD\u001b[0m\u001b[0;34m,\u001b[0m \u001b[0mSGDMomentum\u001b[0m\u001b[0;34m\u001b[0m\u001b[0;34m\u001b[0m\u001b[0m\n\u001b[1;32m      5\u001b[0m \u001b[0;32mfrom\u001b[0m \u001b[0mlincoln\u001b[0m\u001b[0;34m.\u001b[0m\u001b[0mactivations\u001b[0m \u001b[0;32mimport\u001b[0m \u001b[0mSigmoid\u001b[0m\u001b[0;34m,\u001b[0m \u001b[0mTanh\u001b[0m\u001b[0;34m,\u001b[0m \u001b[0mLinear\u001b[0m\u001b[0;34m,\u001b[0m \u001b[0mReLU\u001b[0m\u001b[0;34m\u001b[0m\u001b[0;34m\u001b[0m\u001b[0m\n",
            "\u001b[0;31mModuleNotFoundError\u001b[0m: No module named 'lincoln'",
            "",
            "\u001b[0;31m---------------------------------------------------------------------------\u001b[0;32m\nNOTE: If your import is failing due to a missing package, you can\nmanually install dependencies using either !pip or !apt.\n\nTo view examples of installing some common dependencies, click the\n\"Open Examples\" button below.\n\u001b[0;31m---------------------------------------------------------------------------\u001b[0m\n"
          ],
          "errorDetails": {
            "actions": [
              {
                "action": "open_url",
                "actionText": "Open Examples",
                "url": "/notebooks/snippets/importing_libraries.ipynb"
              }
            ]
          }
        }
      ],
      "metadata": {
        "datalore": {
          "node_id": "uUPPQN4fGpqvmaGMIi6pqc",
          "type": "CODE",
          "hide_input_from_viewers": false,
          "hide_output_from_viewers": false,
          "report_properties": {
            "rowId": "WAsZktiKWTj9jxqr8ilK67"
          }
        },
        "id": "BZxRa-i9F-kV",
        "outputId": "f770eccb-8416-4624-ae83-d382fa074935",
        "colab": {
          "base_uri": "https://localhost:8080/",
          "height": 393
        }
      }
    },
    {
      "cell_type": "code",
      "source": [
        "X_train, y_train, X_test, y_test = mnist.load()"
      ],
      "execution_count": null,
      "outputs": [],
      "metadata": {
        "datalore": {
          "node_id": "ce2R9EQtRDI8LU3K1EKC94",
          "type": "CODE",
          "hide_input_from_viewers": false,
          "hide_output_from_viewers": false,
          "report_properties": {
            "rowId": "WB2dpTHysFAD7WtUPlATnJ"
          }
        },
        "id": "Z8IovaRbF-kV"
      }
    },
    {
      "cell_type": "code",
      "source": [
        "num_labels = len(y_train)\n",
        "num_labels"
      ],
      "execution_count": null,
      "outputs": [],
      "metadata": {
        "datalore": {
          "node_id": "j3X5Vmqd345XXuN3UjJ4bK",
          "type": "CODE",
          "hide_input_from_viewers": false,
          "hide_output_from_viewers": false,
          "report_properties": {
            "rowId": "UI2rOuHHQgxuMCZzFmCHjV"
          }
        },
        "id": "KzGw1BIAF-kW"
      }
    },
    {
      "cell_type": "code",
      "source": [
        "# one-hot encode\n",
        "num_labels = len(y_train)\n",
        "train_labels = np.zeros((num_labels, 10))\n",
        "for i in range(num_labels):\n",
        "    train_labels[i][y_train[i]] = 1\n",
        "\n",
        "num_labels = len(y_test)\n",
        "test_labels = np.zeros((num_labels, 10))\n",
        "for i in range(num_labels):\n",
        "    test_labels[i][y_test[i]] = 1"
      ],
      "execution_count": null,
      "outputs": [],
      "metadata": {
        "datalore": {
          "node_id": "jJcABzpLG4SzvU6zIyB1Jo",
          "type": "CODE",
          "hide_input_from_viewers": false,
          "hide_output_from_viewers": false,
          "report_properties": {
            "rowId": "kuOLBJoj2qFZvKAOWh4fn1"
          }
        },
        "id": "YNE_XFziF-kW"
      }
    },
    {
      "cell_type": "markdown",
      "source": [
        "# MNIST Demos"
      ],
      "metadata": {
        "datalore": {
          "node_id": "zDzYMONwlRMtxFBc2re6dJ",
          "type": "MD",
          "hide_input_from_viewers": false,
          "hide_output_from_viewers": false,
          "report_properties": {
            "rowId": "nI8cqNcw0dtEF1dP3qu2V7"
          }
        },
        "id": "fAIiUMG9F-kW"
      }
    },
    {
      "cell_type": "markdown",
      "source": [
        "# Scale data to mean 0, variance 1"
      ],
      "metadata": {
        "datalore": {
          "node_id": "aR8Aqrh36diHu2wNZ3YRX0",
          "type": "MD",
          "hide_input_from_viewers": false,
          "hide_output_from_viewers": false,
          "report_properties": {
            "rowId": "Cw9LKTd5s1SxoDgVCqzsVE"
          }
        },
        "id": "BCW4CmnDF-kW"
      }
    },
    {
      "cell_type": "code",
      "source": [
        "X_train, X_test = X_train - np.mean(X_train), X_test - np.mean(X_train)"
      ],
      "execution_count": null,
      "outputs": [],
      "metadata": {
        "datalore": {
          "node_id": "cIX6emCTWEGrYJ85P5O0oO",
          "type": "CODE",
          "hide_input_from_viewers": false,
          "hide_output_from_viewers": false,
          "report_properties": {
            "rowId": "74lngJWs667VV44ARVjehV"
          }
        },
        "id": "AFZKKF8DF-kW"
      }
    },
    {
      "cell_type": "code",
      "source": [
        "np.min(X_train), np.max(X_train), np.min(X_test), np.max(X_test)"
      ],
      "execution_count": null,
      "outputs": [],
      "metadata": {
        "datalore": {
          "node_id": "kydEOYWGS25wyjRm2Dpq2p",
          "type": "CODE",
          "hide_input_from_viewers": false,
          "hide_output_from_viewers": false,
          "report_properties": {
            "rowId": "KLsM2aq3VoN0A6xk8sqetq"
          }
        },
        "id": "mT5XjILaF-kW"
      }
    },
    {
      "cell_type": "code",
      "source": [
        "X_train, X_test = X_train / np.std(X_train), X_test / np.std(X_train)"
      ],
      "execution_count": null,
      "outputs": [],
      "metadata": {
        "datalore": {
          "node_id": "IVvyGDEhG9t8nv1QHQfVGl",
          "type": "CODE",
          "hide_input_from_viewers": false,
          "hide_output_from_viewers": false,
          "report_properties": {
            "rowId": "mDFHQs8Eb1CbQf7SGjRU5i"
          }
        },
        "id": "l3lzy_MdF-kW"
      }
    },
    {
      "cell_type": "code",
      "source": [
        "np.min(X_train), np.max(X_train), np.min(X_test), np.max(X_test)"
      ],
      "execution_count": null,
      "outputs": [],
      "metadata": {
        "datalore": {
          "node_id": "XgLZmWK8AN9qgeZp0QxQQU",
          "type": "CODE",
          "hide_input_from_viewers": false,
          "hide_output_from_viewers": false,
          "report_properties": {
            "rowId": "SyvWNvjcZPpZA6qJAaYZJ2"
          }
        },
        "id": "Yh_aJsvxF-kW"
      }
    },
    {
      "cell_type": "code",
      "source": [
        "def calc_accuracy_model(model, test_set):\n",
        "    return print(f'''The model validation accuracy is: {np.equal(np.argmax(model.forward(test_set, inference=True), axis=1), y_test).sum() * 100.0 / test_set.shape[0]:.2f}%''')"
      ],
      "execution_count": null,
      "outputs": [],
      "metadata": {
        "datalore": {
          "node_id": "zKDC54MwnINnbFTeK4BP71",
          "type": "CODE",
          "hide_input_from_viewers": false,
          "hide_output_from_viewers": false,
          "report_properties": {
            "rowId": "zmkxC92CXzk45uw9b93YTA"
          }
        },
        "id": "WDDzLxA2F-kW"
      }
    },
    {
      "cell_type": "markdown",
      "source": [
        "## Softmax cross entropy"
      ],
      "metadata": {
        "datalore": {
          "node_id": "LBYuvjSkTGmDi2TNfHXDMz",
          "type": "MD",
          "hide_input_from_viewers": false,
          "hide_output_from_viewers": false,
          "report_properties": {
            "rowId": "M4NVnAUxhptbFjr3DJCBxG"
          }
        },
        "id": "GgWoEwBNF-kW"
      }
    },
    {
      "cell_type": "markdown",
      "source": [
        "### Trying sigmoid activation"
      ],
      "metadata": {
        "datalore": {
          "node_id": "tUaMrLZL6o2IAMpIpTjj6W",
          "type": "MD",
          "hide_input_from_viewers": false,
          "hide_output_from_viewers": false,
          "report_properties": {
            "rowId": "qWlvWe54DpXXE1SOjg9L47"
          }
        },
        "id": "bdD___64F-kX"
      }
    },
    {
      "cell_type": "code",
      "source": [
        "model = NeuralNetwork(\n",
        "    layers=[Dense(neurons=89,\n",
        "                  activation=Tanh()),\n",
        "            Dense(neurons=10,\n",
        "                  activation=Sigmoid())],\n",
        "            loss = MeanSquaredError(normalize=False),\n",
        "seed=20190119)\n",
        "\n",
        "trainer = Trainer(model, SGD(0.1))\n",
        "trainer.fit(X_train, train_labels, X_test, test_labels,\n",
        "            epochs = 50,\n",
        "            eval_every = 10,\n",
        "            seed=20190119,\n",
        "            batch_size=60);\n",
        "print()\n",
        "calc_accuracy_model(model, X_test)"
      ],
      "execution_count": null,
      "outputs": [],
      "metadata": {
        "datalore": {
          "node_id": "i6NyntkRCIPu3i7eSaSrm2",
          "type": "CODE",
          "hide_input_from_viewers": false,
          "hide_output_from_viewers": false,
          "report_properties": {
            "rowId": "CvlT8gX6kagoZEUHXBWrce"
          }
        },
        "id": "KxGB20PCF-kX"
      }
    },
    {
      "cell_type": "markdown",
      "source": [
        "Note: even if we normalize the outputs of a classification model with mean squared error loss, it still doesn't help:"
      ],
      "metadata": {
        "datalore": {
          "node_id": "A2Mzasp1cnatdINlunIzAs",
          "type": "MD",
          "hide_input_from_viewers": false,
          "hide_output_from_viewers": false,
          "report_properties": {
            "rowId": "ziJZtQ19qKdlGS4RbaD5uY"
          }
        },
        "id": "ZQ4U50-5F-kX"
      }
    },
    {
      "cell_type": "code",
      "source": [
        "model = NeuralNetwork(\n",
        "    layers=[Dense(neurons=89,\n",
        "                  activation=Tanh()),\n",
        "            Dense(neurons=10,\n",
        "                  activation=Sigmoid())],\n",
        "            loss = MeanSquaredError(normalize=True),\n",
        "seed=20190119)\n",
        "\n",
        "trainer = Trainer(model, SGD(0.1))\n",
        "trainer.fit(X_train, train_labels, X_test, test_labels,\n",
        "            epochs = 50,\n",
        "            eval_every = 10,\n",
        "            seed=20190119,\n",
        "            batch_size=60);\n",
        "\n",
        "calc_accuracy_model(model, X_test)"
      ],
      "execution_count": null,
      "outputs": [],
      "metadata": {
        "datalore": {
          "node_id": "GQvrTMcfHdDl1pxFZSJveM",
          "type": "CODE",
          "hide_input_from_viewers": false,
          "hide_output_from_viewers": false,
          "report_properties": {
            "rowId": "e2v0fTUhyMSaX8TmdDTgcZ"
          }
        },
        "id": "JWsw5kjaF-kX"
      }
    },
    {
      "cell_type": "markdown",
      "source": [
        "The reason is that we should be using softmax cross entropy loss!"
      ],
      "metadata": {
        "datalore": {
          "node_id": "G5BQ0ab1vC73i31wPkiw3F",
          "type": "MD",
          "hide_input_from_viewers": false,
          "hide_output_from_viewers": false,
          "report_properties": {
            "rowId": "NoFdgL9w3c5VVazI21yp3K"
          }
        },
        "id": "Tu0RUvaMF-kX"
      }
    },
    {
      "cell_type": "markdown",
      "source": [
        "#### Trying sigmoid activation"
      ],
      "metadata": {
        "datalore": {
          "node_id": "CjMHF2pigGXHux8n2dkWgV",
          "type": "MD",
          "hide_input_from_viewers": false,
          "hide_output_from_viewers": false,
          "report_properties": {
            "rowId": "95CAglBfl8y8JdXnvHESI7"
          }
        },
        "id": "ukB7LePDF-kX"
      }
    },
    {
      "cell_type": "code",
      "source": [
        "model = NeuralNetwork(\n",
        "    layers=[Dense(neurons=89,\n",
        "                  activation=Sigmoid()),\n",
        "            Dense(neurons=10,\n",
        "                  activation=Linear())],\n",
        "            loss = SoftmaxCrossEntropy(),\n",
        "seed=20190119)\n",
        "\n",
        "trainer = Trainer(model, SGD(0.1))\n",
        "trainer.fit(X_train, train_labels, X_test, test_labels,\n",
        "            epochs = 130,\n",
        "            eval_every = 1,\n",
        "            seed=20190119,\n",
        "            batch_size=60);\n",
        "print()\n",
        "calc_accuracy_model(model, X_test)"
      ],
      "execution_count": null,
      "outputs": [],
      "metadata": {
        "datalore": {
          "node_id": "N3UEv0McRqBu7chVgjAQna",
          "type": "CODE",
          "hide_input_from_viewers": false,
          "hide_output_from_viewers": false,
          "report_properties": {
            "rowId": "pe9i2V1qUhTsM1dnxwL21L"
          }
        },
        "id": "kK1xEC0ZF-kX"
      }
    },
    {
      "cell_type": "markdown",
      "source": [
        "#### Trying ReLU activation"
      ],
      "metadata": {
        "datalore": {
          "node_id": "lh9X0leOaaSdosu2ahJvge",
          "type": "MD",
          "hide_input_from_viewers": false,
          "hide_output_from_viewers": false,
          "report_properties": {
            "rowId": "cmb1ppvwyjbpzZGNxwMZ73"
          }
        },
        "id": "MU9Himk3F-kX"
      }
    },
    {
      "cell_type": "code",
      "source": [
        "model = NeuralNetwork(\n",
        "    layers=[Dense(neurons=89,\n",
        "                  activation=ReLU()),\n",
        "            Dense(neurons=10,\n",
        "                  activation=Linear())],\n",
        "            loss = SoftmaxCrossEntropy(),\n",
        "seed=20190119)\n",
        "\n",
        "trainer = Trainer(model, SGD(0.1))\n",
        "trainer.fit(X_train, train_labels, X_test, test_labels,\n",
        "            epochs = 50,\n",
        "            eval_every = 10,\n",
        "            seed=20190119,\n",
        "            batch_size=60);\n",
        "print()\n",
        "calc_accuracy_model(model, X_test)"
      ],
      "execution_count": null,
      "outputs": [],
      "metadata": {
        "datalore": {
          "node_id": "SxYlS7Gfg5TjLosYFow5KL",
          "type": "CODE",
          "hide_input_from_viewers": false,
          "hide_output_from_viewers": false,
          "report_properties": {
            "rowId": "gCwPBj4VWibmMwxOg1tQ62"
          }
        },
        "id": "w2I9VA3nF-kX"
      }
    },
    {
      "cell_type": "code",
      "source": [
        "model = NeuralNetwork(\n",
        "    layers=[Dense(neurons=89,\n",
        "                  activation=Tanh()),\n",
        "            Dense(neurons=10,\n",
        "                  activation=Linear())],\n",
        "            loss = SoftmaxCrossEntropy(),\n",
        "seed=20190119)\n",
        "\n",
        "trainer = Trainer(model, SGD(0.1))\n",
        "trainer.fit(X_train, train_labels, X_test, test_labels,\n",
        "            epochs = 50,\n",
        "            eval_every = 10,\n",
        "            seed=20190119,\n",
        "            batch_size=60);\n",
        "print()\n",
        "calc_accuracy_model(model, X_test)"
      ],
      "execution_count": null,
      "outputs": [],
      "metadata": {
        "datalore": {
          "node_id": "cUKm8c0tGW0godlSHcriEt",
          "type": "CODE",
          "hide_input_from_viewers": false,
          "hide_output_from_viewers": false,
          "report_properties": {
            "rowId": "5rRGcdBRrZLSGmLEY4rhni"
          }
        },
        "id": "4lablFfaF-kX"
      }
    },
    {
      "cell_type": "markdown",
      "source": [
        "## SGD Momentum"
      ],
      "metadata": {
        "datalore": {
          "node_id": "9R9a0m03h02UywKwCteTaO",
          "type": "MD",
          "hide_input_from_viewers": false,
          "hide_output_from_viewers": false,
          "report_properties": {
            "rowId": "1ztC15SGwJZhVWKz9V0sdm"
          }
        },
        "id": "hUo-bXqDF-kX"
      }
    },
    {
      "cell_type": "code",
      "source": [
        "model = NeuralNetwork(\n",
        "    layers=[Dense(neurons=89,\n",
        "                  activation=Sigmoid()),\n",
        "            Dense(neurons=10,\n",
        "                  activation=Linear())],\n",
        "            loss = SoftmaxCrossEntropy(),\n",
        "seed=20190119)\n",
        "\n",
        "optim = SGDMomentum(0.1, momentum=0.9)\n",
        "\n",
        "trainer = Trainer(model, SGDMomentum(0.1, momentum=0.9))\n",
        "trainer.fit(X_train, train_labels, X_test, test_labels,\n",
        "            epochs = 50,\n",
        "            eval_every = 1,\n",
        "            seed=20190119,\n",
        "            batch_size=60);\n",
        "\n",
        "calc_accuracy_model(model, X_test)"
      ],
      "execution_count": null,
      "outputs": [],
      "metadata": {
        "datalore": {
          "node_id": "0JnuJrEfVZ2vJGJoCBhNaG",
          "type": "CODE",
          "hide_input_from_viewers": false,
          "hide_output_from_viewers": false,
          "report_properties": {
            "rowId": "acIHC9cQgWUB2V13icvjw8"
          }
        },
        "id": "p0URFApOF-kX"
      }
    },
    {
      "cell_type": "code",
      "source": [
        "model = NeuralNetwork(\n",
        "    layers=[Dense(neurons=89,\n",
        "                  activation=Tanh()),\n",
        "            Dense(neurons=10,\n",
        "                  activation=Linear())],\n",
        "            loss = SoftmaxCrossEntropy(),\n",
        "seed=20190119)\n",
        "\n",
        "optim = SGD(0.1)\n",
        "\n",
        "optim = SGDMomentum(0.1, momentum=0.9)\n",
        "\n",
        "trainer = Trainer(model, SGDMomentum(0.1, momentum=0.9))\n",
        "trainer.fit(X_train, train_labels, X_test, test_labels,\n",
        "            epochs = 50,\n",
        "            eval_every = 10,\n",
        "            seed=20190119,\n",
        "            batch_size=60);\n",
        "\n",
        "calc_accuracy_model(model, X_test)"
      ],
      "execution_count": null,
      "outputs": [],
      "metadata": {
        "datalore": {
          "node_id": "XEhrMpy3ArnXAPEnxOjO15",
          "type": "CODE",
          "hide_input_from_viewers": false,
          "hide_output_from_viewers": false,
          "report_properties": {
            "rowId": "ve8fcGYDyVOQDKPU3dvSAq"
          }
        },
        "id": "INUqF13KF-kX"
      }
    },
    {
      "cell_type": "markdown",
      "source": [
        "## Different weight decay"
      ],
      "metadata": {
        "datalore": {
          "node_id": "GQHobYdWcHGJBaY2oxiazG",
          "type": "MD",
          "hide_input_from_viewers": false,
          "hide_output_from_viewers": false,
          "report_properties": {
            "rowId": "0a95awX9f318V6JyJNJYQe"
          }
        },
        "id": "LN9APE0OF-kY"
      }
    },
    {
      "cell_type": "code",
      "source": [
        "model = NeuralNetwork(\n",
        "    layers=[Dense(neurons=89,\n",
        "                  activation=Tanh()),\n",
        "            Dense(neurons=10,\n",
        "                  activation=Linear())],\n",
        "            loss = SoftmaxCrossEntropy(),\n",
        "seed=20190119)\n",
        "\n",
        "optimizer = SGDMomentum(0.15, momentum=0.9, final_lr = 0.05, decay_type='linear')\n",
        "\n",
        "trainer = Trainer(model, optimizer)\n",
        "trainer.fit(X_train, train_labels, X_test, test_labels,\n",
        "            epochs = 50,\n",
        "            eval_every = 10,\n",
        "            seed=20190119,\n",
        "            batch_size=60);\n",
        "\n",
        "calc_accuracy_model(model, X_test)"
      ],
      "execution_count": null,
      "outputs": [],
      "metadata": {
        "datalore": {
          "node_id": "9Cw6BOEfmszZTAwsU3WA86",
          "type": "CODE",
          "hide_input_from_viewers": false,
          "hide_output_from_viewers": false,
          "report_properties": {
            "rowId": "vzLdjt1xGOzAAkVfFih3QK"
          }
        },
        "id": "QJql69jpF-kY"
      }
    },
    {
      "cell_type": "code",
      "source": [
        "model = NeuralNetwork(\n",
        "    layers=[Dense(neurons=89,\n",
        "                  activation=Tanh()),\n",
        "            Dense(neurons=10,\n",
        "                  activation=Linear())],\n",
        "            loss = SoftmaxCrossEntropy(),\n",
        "seed=20190119)\n",
        "\n",
        "optimizer = SGDMomentum(0.2,\n",
        "                        momentum=0.9,\n",
        "                        final_lr = 0.05,\n",
        "                        decay_type='exponential')\n",
        "\n",
        "trainer = Trainer(model, optimizer)\n",
        "trainer.fit(X_train, train_labels, X_test, test_labels,\n",
        "            epochs = 50,\n",
        "            eval_every = 10,\n",
        "            seed=20190119,\n",
        "            batch_size=60);\n",
        "\n",
        "calc_accuracy_model(model, X_test)"
      ],
      "execution_count": null,
      "outputs": [],
      "metadata": {
        "datalore": {
          "node_id": "HOJhtp9PbY07gd12kJ2nYI",
          "type": "CODE",
          "hide_input_from_viewers": false,
          "hide_output_from_viewers": false,
          "report_properties": {
            "rowId": "waBTxE2u64XiyylXfZAvtU"
          }
        },
        "id": "HMYdjT6UF-kY"
      }
    },
    {
      "cell_type": "markdown",
      "source": [
        "## Changing weight init"
      ],
      "metadata": {
        "datalore": {
          "node_id": "HvRKv0F0ugNcquFejcIP3r",
          "type": "MD",
          "hide_input_from_viewers": false,
          "hide_output_from_viewers": false,
          "report_properties": {
            "rowId": "TwmbmSCgtHDDvYILBKlYAH"
          }
        },
        "id": "YHLMVrqXF-kY"
      }
    },
    {
      "cell_type": "code",
      "source": [
        "model = NeuralNetwork(\n",
        "    layers=[Dense(neurons=89,\n",
        "                  activation=Tanh(),\n",
        "                  weight_init=\"glorot\"),\n",
        "            Dense(neurons=10,\n",
        "                  activation=Linear(),\n",
        "                  weight_init=\"glorot\")],\n",
        "            loss = SoftmaxCrossEntropy(),\n",
        "seed=20190119)\n",
        "\n",
        "optimizer = SGDMomentum(0.15, momentum=0.9, final_lr = 0.05, decay_type='linear')\n",
        "\n",
        "trainer = Trainer(model, optimizer)\n",
        "trainer.fit(X_train, train_labels, X_test, test_labels,\n",
        "       epochs = 50,\n",
        "       eval_every = 10,\n",
        "       seed=20190119,\n",
        "           batch_size=60,\n",
        "           early_stopping=True);\n",
        "\n",
        "calc_accuracy_model(model, X_test)"
      ],
      "execution_count": null,
      "outputs": [],
      "metadata": {
        "datalore": {
          "node_id": "8QCSHZAj3C8nvf7kfwOGtq",
          "type": "CODE",
          "hide_input_from_viewers": false,
          "hide_output_from_viewers": false,
          "report_properties": {
            "rowId": "jucSjW8fEHGTesmhhN7yAQ"
          }
        },
        "id": "tlRETuy3F-kY"
      }
    },
    {
      "cell_type": "code",
      "source": [
        "model = NeuralNetwork(\n",
        "    layers=[Dense(neurons=89,\n",
        "                  activation=Tanh(),\n",
        "                  weight_init=\"glorot\"),\n",
        "            Dense(neurons=10,\n",
        "                  activation=Linear(),\n",
        "                  weight_init=\"glorot\")],\n",
        "            loss = SoftmaxCrossEntropy(),\n",
        "seed=20190119)\n",
        "\n",
        "trainer = Trainer(model, SGDMomentum(0.2, momentum=0.9, final_lr = 0.05, decay_type='exponential'))\n",
        "trainer.fit(X_train, train_labels, X_test, test_labels,\n",
        "       epochs = 50,\n",
        "       eval_every = 10,\n",
        "       seed=20190119,\n",
        "           batch_size=60,\n",
        "           early_stopping=True);\n",
        "\n",
        "calc_accuracy_model(model, X_test)"
      ],
      "execution_count": null,
      "outputs": [],
      "metadata": {
        "datalore": {
          "node_id": "OaTsQWnNROCNLJ7G8aqHBd",
          "type": "CODE",
          "hide_input_from_viewers": false,
          "hide_output_from_viewers": false,
          "report_properties": {
            "rowId": "y1RlbLMPU2C9ixVpJjod5I"
          }
        },
        "id": "sm8F6AiiF-kY"
      }
    },
    {
      "cell_type": "markdown",
      "source": [
        "## Dropout"
      ],
      "metadata": {
        "datalore": {
          "node_id": "Y2f76I3Q6p01163LzGLLmJ",
          "type": "MD",
          "hide_input_from_viewers": false,
          "hide_output_from_viewers": false,
          "report_properties": {
            "rowId": "I8WJC0V3uqIQhQZRHDkyvz"
          }
        },
        "id": "fgXOvivyF-kY"
      }
    },
    {
      "cell_type": "code",
      "source": [
        "model = NeuralNetwork(\n",
        "    layers=[Dense(neurons=89,\n",
        "                  activation=Tanh(),\n",
        "                  weight_init=\"glorot\",\n",
        "                  dropout=0.8),\n",
        "            Dense(neurons=10,\n",
        "                  activation=Linear(),\n",
        "                  weight_init=\"glorot\")],\n",
        "            loss = SoftmaxCrossEntropy(),\n",
        "seed=20190119)\n",
        "\n",
        "trainer = Trainer(model, SGDMomentum(0.2, momentum=0.9, final_lr = 0.05, decay_type='exponential'))\n",
        "trainer.fit(X_train, train_labels, X_test, test_labels,\n",
        "       epochs = 50,\n",
        "       eval_every = 10,\n",
        "       seed=20190119,\n",
        "           batch_size=60,\n",
        "           early_stopping=True);\n",
        "\n",
        "calc_accuracy_model(model, X_test)"
      ],
      "execution_count": null,
      "outputs": [],
      "metadata": {
        "datalore": {
          "node_id": "mnWNksnTjHpZjRHySLZNEM",
          "type": "CODE",
          "hide_input_from_viewers": false,
          "hide_output_from_viewers": false,
          "report_properties": {
            "rowId": "G1Vtd1Dftl0Oaq1pQWBfah"
          }
        },
        "id": "f0W3nnpYF-kY"
      }
    },
    {
      "cell_type": "markdown",
      "source": [
        "## Deep Learning, with and without Dropout"
      ],
      "metadata": {
        "datalore": {
          "node_id": "FKhfLkQed4M3ZKM6ezDl9T",
          "type": "MD",
          "hide_input_from_viewers": false,
          "hide_output_from_viewers": false,
          "report_properties": {
            "rowId": "8jER78Pef422jztXm1xB4T"
          }
        },
        "id": "qYLxnLQFF-kY"
      }
    },
    {
      "cell_type": "code",
      "source": [
        "model = NeuralNetwork(\n",
        "    layers=[Dense(neurons=178,\n",
        "                  activation=Tanh(),\n",
        "                  weight_init=\"glorot\",\n",
        "                  dropout=0.8),\n",
        "            Dense(neurons=46,\n",
        "                  activation=Tanh(),\n",
        "                  weight_init=\"glorot\",\n",
        "                  dropout=0.8),\n",
        "            Dense(neurons=10,\n",
        "                  activation=Linear(),\n",
        "                  weight_init=\"glorot\")],\n",
        "            loss = SoftmaxCrossEntropy(),\n",
        "seed=20190119)\n",
        "\n",
        "trainer = Trainer(model, SGDMomentum(0.2, momentum=0.9, final_lr = 0.05, decay_type='exponential'))\n",
        "trainer.fit(X_train, train_labels, X_test, test_labels,\n",
        "       epochs = 100,\n",
        "       eval_every = 10,\n",
        "       seed=20190119,\n",
        "           batch_size=60,\n",
        "           early_stopping=True);\n",
        "\n",
        "calc_accuracy_model(model, X_test)"
      ],
      "execution_count": null,
      "outputs": [],
      "metadata": {
        "datalore": {
          "node_id": "HE5VrFAfjwxS8oQhFGfiXq",
          "type": "CODE",
          "hide_input_from_viewers": false,
          "hide_output_from_viewers": false,
          "report_properties": {
            "rowId": "dLdjKErdDZCOUX9jDqP3gA"
          }
        },
        "id": "dY8d_G4_F-kY"
      }
    },
    {
      "cell_type": "code",
      "source": [
        "model = NeuralNetwork(\n",
        "    layers=[Dense(neurons=178,\n",
        "                  activation=Tanh(),\n",
        "                  weight_init=\"glorot\"),\n",
        "            Dense(neurons=46,\n",
        "                  activation=Tanh(),\n",
        "                  weight_init=\"glorot\"),\n",
        "            Dense(neurons=10,\n",
        "                  activation=Linear(),\n",
        "                  weight_init=\"glorot\")],\n",
        "            loss = SoftmaxCrossEntropy(),\n",
        "seed=20190119)\n",
        "\n",
        "trainer = Trainer(model, SGDMomentum(0.2, momentum=0.9, final_lr = 0.05, decay_type='exponential'))\n",
        "trainer.fit(X_train, train_labels, X_test, test_labels,\n",
        "       epochs = 100,\n",
        "       eval_every = 10,\n",
        "       seed=20190119,\n",
        "           batch_size=60,\n",
        "           early_stopping=True);\n",
        "\n",
        "calc_accuracy_model(model, X_test)"
      ],
      "execution_count": null,
      "outputs": [],
      "metadata": {
        "datalore": {
          "node_id": "SM3mesScpSlfo14yihJLyK",
          "type": "CODE",
          "hide_input_from_viewers": false,
          "hide_output_from_viewers": false,
          "report_properties": {
            "rowId": "FeQy7zHeNE5kDietpk41jK"
          }
        },
        "id": "fM5GWuhMF-kY"
      }
    }
  ],
  "metadata": {
    "kernelspec": {
      "display_name": "Python",
      "language": "python",
      "name": "python"
    },
    "datalore": {
      "computation_mode": "JUPYTER",
      "package_manager": "pip",
      "base_environment": "default",
      "packages": [
        {
          "name": "lincoln",
          "source": "PIP"
        },
        {
          "name": "lincolntools-config",
          "source": "PIP"
        }
      ],
      "report_row_ids": [
        "ZZF1NL0Q2THUOqpU7ALq9c",
        "uKQbp8YYvRg70E1zjuKBWr",
        "2ZZldSaQgvbvCxdc2ytEWm",
        "zV75iGrJx6MzSXFzUmXRrf",
        "WAsZktiKWTj9jxqr8ilK67",
        "WB2dpTHysFAD7WtUPlATnJ",
        "UI2rOuHHQgxuMCZzFmCHjV",
        "kuOLBJoj2qFZvKAOWh4fn1",
        "nI8cqNcw0dtEF1dP3qu2V7",
        "Cw9LKTd5s1SxoDgVCqzsVE",
        "74lngJWs667VV44ARVjehV",
        "KLsM2aq3VoN0A6xk8sqetq",
        "mDFHQs8Eb1CbQf7SGjRU5i",
        "SyvWNvjcZPpZA6qJAaYZJ2",
        "zmkxC92CXzk45uw9b93YTA",
        "M4NVnAUxhptbFjr3DJCBxG",
        "qWlvWe54DpXXE1SOjg9L47",
        "CvlT8gX6kagoZEUHXBWrce",
        "ziJZtQ19qKdlGS4RbaD5uY",
        "e2v0fTUhyMSaX8TmdDTgcZ",
        "NoFdgL9w3c5VVazI21yp3K",
        "95CAglBfl8y8JdXnvHESI7",
        "pe9i2V1qUhTsM1dnxwL21L",
        "cmb1ppvwyjbpzZGNxwMZ73",
        "gCwPBj4VWibmMwxOg1tQ62",
        "5rRGcdBRrZLSGmLEY4rhni",
        "1ztC15SGwJZhVWKz9V0sdm",
        "acIHC9cQgWUB2V13icvjw8",
        "ve8fcGYDyVOQDKPU3dvSAq",
        "0a95awX9f318V6JyJNJYQe",
        "vzLdjt1xGOzAAkVfFih3QK",
        "waBTxE2u64XiyylXfZAvtU",
        "TwmbmSCgtHDDvYILBKlYAH",
        "jucSjW8fEHGTesmhhN7yAQ",
        "y1RlbLMPU2C9ixVpJjod5I",
        "I8WJC0V3uqIQhQZRHDkyvz",
        "G1Vtd1Dftl0Oaq1pQWBfah",
        "8jER78Pef422jztXm1xB4T",
        "dLdjKErdDZCOUX9jDqP3gA",
        "FeQy7zHeNE5kDietpk41jK"
      ],
      "version": 3
    },
    "colab": {
      "provenance": [],
      "include_colab_link": true
    }
  },
  "nbformat": 4,
  "nbformat_minor": 0
}